{
  "cells": [
    {
      "cell_type": "code",
      "execution_count": null,
      "metadata": {
        "colab": {
          "base_uri": "https://localhost:8080/",
          "height": 92
        },
        "id": "aFJ16s8bEPkl",
        "outputId": "72653e9f-c2ae-4136-f3a7-34f0f2f6dea2"
      },
      "outputs": [],
      "source": [
        "from google.colab import files\n",
        "files.upload()"
      ]
    },
    {
      "cell_type": "code",
      "execution_count": null,
      "metadata": {
        "colab": {
          "base_uri": "https://localhost:8080/"
        },
        "id": "lsNUh6hcEX01",
        "outputId": "d1d1e245-ff70-4cc4-ff8b-b06a76f5335a"
      },
      "outputs": [
        {
          "name": "stdout",
          "output_type": "stream",
          "text": [
            "rm: cannot remove '/root/.kaggle': No such file or directory\n"
          ]
        }
      ],
      "source": [
        "!rm -r ~/.kaggle\n",
        "!mkdir ~/.kaggle\n",
        "!mv ./kaggle.json ~/.kaggle/\n",
        "!chmod 600 ~/.kaggle/kaggle.json"
      ]
    },
    {
      "cell_type": "code",
      "execution_count": null,
      "metadata": {
        "colab": {
          "base_uri": "https://localhost:8080/"
        },
        "id": "Vva2I_eeEar3",
        "outputId": "413d13f7-c9aa-4211-93d9-b90ef34e76ee"
      },
      "outputs": [
        {
          "name": "stdout",
          "output_type": "stream",
          "text": [
            "Downloading titanic.zip to /content\n",
            "\r  0% 0.00/34.1k [00:00<?, ?B/s]\n",
            "\r100% 34.1k/34.1k [00:00<00:00, 44.6MB/s]\n"
          ]
        }
      ],
      "source": [
        "!kaggle competitions download -c titanic"
      ]
    },
    {
      "cell_type": "code",
      "execution_count": null,
      "metadata": {
        "id": "1En17qk7Egc5"
      },
      "outputs": [],
      "source": [
        "!mkdir Dataset\n",
        "!cp /content/titanic.zip /content/Dataset/titanic.zip\n",
        "!unzip -q /content/Dataset/titanic.zip -d /content/Dataset\n",
        "!rm /content/Dataset/titanic.zip"
      ]
    },
    {
      "cell_type": "code",
      "execution_count": null,
      "metadata": {
        "colab": {
          "base_uri": "https://localhost:8080/"
        },
        "id": "-D4H4BAvEsOB",
        "outputId": "b16f505b-662c-40ac-a021-a75a671c878e"
      },
      "outputs": [
        {
          "name": "stdout",
          "output_type": "stream",
          "text": [
            "gender_submission.csv  test.csv  train.csv\n"
          ]
        }
      ],
      "source": [
        "!ls /content/Dataset/"
      ]
    },
    {
      "cell_type": "code",
      "execution_count": null,
      "metadata": {
        "colab": {
          "base_uri": "https://localhost:8080/",
          "height": 363
        },
        "id": "99jlEILDEpxb",
        "outputId": "ea6050d7-460e-4c8c-b405-317d6099c54d"
      },
      "outputs": [
        {
          "data": {
            "text/html": [
              "\n",
              "  <div id=\"df-32e78512-e273-4f34-bacc-7f57bcdd1099\">\n",
              "    <div class=\"colab-df-container\">\n",
              "      <div>\n",
              "<style scoped>\n",
              "    .dataframe tbody tr th:only-of-type {\n",
              "        vertical-align: middle;\n",
              "    }\n",
              "\n",
              "    .dataframe tbody tr th {\n",
              "        vertical-align: top;\n",
              "    }\n",
              "\n",
              "    .dataframe thead th {\n",
              "        text-align: right;\n",
              "    }\n",
              "</style>\n",
              "<table border=\"1\" class=\"dataframe\">\n",
              "  <thead>\n",
              "    <tr style=\"text-align: right;\">\n",
              "      <th></th>\n",
              "      <th>PassengerId</th>\n",
              "      <th>Survived</th>\n",
              "      <th>Pclass</th>\n",
              "      <th>Name</th>\n",
              "      <th>Sex</th>\n",
              "      <th>Age</th>\n",
              "      <th>SibSp</th>\n",
              "      <th>Parch</th>\n",
              "      <th>Ticket</th>\n",
              "      <th>Fare</th>\n",
              "      <th>Cabin</th>\n",
              "      <th>Embarked</th>\n",
              "    </tr>\n",
              "  </thead>\n",
              "  <tbody>\n",
              "    <tr>\n",
              "      <th>0</th>\n",
              "      <td>1</td>\n",
              "      <td>0</td>\n",
              "      <td>3</td>\n",
              "      <td>Braund, Mr. Owen Harris</td>\n",
              "      <td>male</td>\n",
              "      <td>22.0</td>\n",
              "      <td>1</td>\n",
              "      <td>0</td>\n",
              "      <td>A/5 21171</td>\n",
              "      <td>7.2500</td>\n",
              "      <td>NaN</td>\n",
              "      <td>S</td>\n",
              "    </tr>\n",
              "    <tr>\n",
              "      <th>1</th>\n",
              "      <td>2</td>\n",
              "      <td>1</td>\n",
              "      <td>1</td>\n",
              "      <td>Cumings, Mrs. John Bradley (Florence Briggs Th...</td>\n",
              "      <td>female</td>\n",
              "      <td>38.0</td>\n",
              "      <td>1</td>\n",
              "      <td>0</td>\n",
              "      <td>PC 17599</td>\n",
              "      <td>71.2833</td>\n",
              "      <td>C85</td>\n",
              "      <td>C</td>\n",
              "    </tr>\n",
              "    <tr>\n",
              "      <th>2</th>\n",
              "      <td>3</td>\n",
              "      <td>1</td>\n",
              "      <td>3</td>\n",
              "      <td>Heikkinen, Miss. Laina</td>\n",
              "      <td>female</td>\n",
              "      <td>26.0</td>\n",
              "      <td>0</td>\n",
              "      <td>0</td>\n",
              "      <td>STON/O2. 3101282</td>\n",
              "      <td>7.9250</td>\n",
              "      <td>NaN</td>\n",
              "      <td>S</td>\n",
              "    </tr>\n",
              "    <tr>\n",
              "      <th>3</th>\n",
              "      <td>4</td>\n",
              "      <td>1</td>\n",
              "      <td>1</td>\n",
              "      <td>Futrelle, Mrs. Jacques Heath (Lily May Peel)</td>\n",
              "      <td>female</td>\n",
              "      <td>35.0</td>\n",
              "      <td>1</td>\n",
              "      <td>0</td>\n",
              "      <td>113803</td>\n",
              "      <td>53.1000</td>\n",
              "      <td>C123</td>\n",
              "      <td>S</td>\n",
              "    </tr>\n",
              "    <tr>\n",
              "      <th>4</th>\n",
              "      <td>5</td>\n",
              "      <td>0</td>\n",
              "      <td>3</td>\n",
              "      <td>Allen, Mr. William Henry</td>\n",
              "      <td>male</td>\n",
              "      <td>35.0</td>\n",
              "      <td>0</td>\n",
              "      <td>0</td>\n",
              "      <td>373450</td>\n",
              "      <td>8.0500</td>\n",
              "      <td>NaN</td>\n",
              "      <td>S</td>\n",
              "    </tr>\n",
              "    <tr>\n",
              "      <th>5</th>\n",
              "      <td>6</td>\n",
              "      <td>0</td>\n",
              "      <td>3</td>\n",
              "      <td>Moran, Mr. James</td>\n",
              "      <td>male</td>\n",
              "      <td>NaN</td>\n",
              "      <td>0</td>\n",
              "      <td>0</td>\n",
              "      <td>330877</td>\n",
              "      <td>8.4583</td>\n",
              "      <td>NaN</td>\n",
              "      <td>Q</td>\n",
              "    </tr>\n",
              "    <tr>\n",
              "      <th>6</th>\n",
              "      <td>7</td>\n",
              "      <td>0</td>\n",
              "      <td>1</td>\n",
              "      <td>McCarthy, Mr. Timothy J</td>\n",
              "      <td>male</td>\n",
              "      <td>54.0</td>\n",
              "      <td>0</td>\n",
              "      <td>0</td>\n",
              "      <td>17463</td>\n",
              "      <td>51.8625</td>\n",
              "      <td>E46</td>\n",
              "      <td>S</td>\n",
              "    </tr>\n",
              "    <tr>\n",
              "      <th>7</th>\n",
              "      <td>8</td>\n",
              "      <td>0</td>\n",
              "      <td>3</td>\n",
              "      <td>Palsson, Master. Gosta Leonard</td>\n",
              "      <td>male</td>\n",
              "      <td>2.0</td>\n",
              "      <td>3</td>\n",
              "      <td>1</td>\n",
              "      <td>349909</td>\n",
              "      <td>21.0750</td>\n",
              "      <td>NaN</td>\n",
              "      <td>S</td>\n",
              "    </tr>\n",
              "    <tr>\n",
              "      <th>8</th>\n",
              "      <td>9</td>\n",
              "      <td>1</td>\n",
              "      <td>3</td>\n",
              "      <td>Johnson, Mrs. Oscar W (Elisabeth Vilhelmina Berg)</td>\n",
              "      <td>female</td>\n",
              "      <td>27.0</td>\n",
              "      <td>0</td>\n",
              "      <td>2</td>\n",
              "      <td>347742</td>\n",
              "      <td>11.1333</td>\n",
              "      <td>NaN</td>\n",
              "      <td>S</td>\n",
              "    </tr>\n",
              "    <tr>\n",
              "      <th>9</th>\n",
              "      <td>10</td>\n",
              "      <td>1</td>\n",
              "      <td>2</td>\n",
              "      <td>Nasser, Mrs. Nicholas (Adele Achem)</td>\n",
              "      <td>female</td>\n",
              "      <td>14.0</td>\n",
              "      <td>1</td>\n",
              "      <td>0</td>\n",
              "      <td>237736</td>\n",
              "      <td>30.0708</td>\n",
              "      <td>NaN</td>\n",
              "      <td>C</td>\n",
              "    </tr>\n",
              "  </tbody>\n",
              "</table>\n",
              "</div>\n",
              "      <button class=\"colab-df-convert\" onclick=\"convertToInteractive('df-32e78512-e273-4f34-bacc-7f57bcdd1099')\"\n",
              "              title=\"Convert this dataframe to an interactive table.\"\n",
              "              style=\"display:none;\">\n",
              "        \n",
              "  <svg xmlns=\"http://www.w3.org/2000/svg\" height=\"24px\"viewBox=\"0 0 24 24\"\n",
              "       width=\"24px\">\n",
              "    <path d=\"M0 0h24v24H0V0z\" fill=\"none\"/>\n",
              "    <path d=\"M18.56 5.44l.94 2.06.94-2.06 2.06-.94-2.06-.94-.94-2.06-.94 2.06-2.06.94zm-11 1L8.5 8.5l.94-2.06 2.06-.94-2.06-.94L8.5 2.5l-.94 2.06-2.06.94zm10 10l.94 2.06.94-2.06 2.06-.94-2.06-.94-.94-2.06-.94 2.06-2.06.94z\"/><path d=\"M17.41 7.96l-1.37-1.37c-.4-.4-.92-.59-1.43-.59-.52 0-1.04.2-1.43.59L10.3 9.45l-7.72 7.72c-.78.78-.78 2.05 0 2.83L4 21.41c.39.39.9.59 1.41.59.51 0 1.02-.2 1.41-.59l7.78-7.78 2.81-2.81c.8-.78.8-2.07 0-2.86zM5.41 20L4 18.59l7.72-7.72 1.47 1.35L5.41 20z\"/>\n",
              "  </svg>\n",
              "      </button>\n",
              "      \n",
              "  <style>\n",
              "    .colab-df-container {\n",
              "      display:flex;\n",
              "      flex-wrap:wrap;\n",
              "      gap: 12px;\n",
              "    }\n",
              "\n",
              "    .colab-df-convert {\n",
              "      background-color: #E8F0FE;\n",
              "      border: none;\n",
              "      border-radius: 50%;\n",
              "      cursor: pointer;\n",
              "      display: none;\n",
              "      fill: #1967D2;\n",
              "      height: 32px;\n",
              "      padding: 0 0 0 0;\n",
              "      width: 32px;\n",
              "    }\n",
              "\n",
              "    .colab-df-convert:hover {\n",
              "      background-color: #E2EBFA;\n",
              "      box-shadow: 0px 1px 2px rgba(60, 64, 67, 0.3), 0px 1px 3px 1px rgba(60, 64, 67, 0.15);\n",
              "      fill: #174EA6;\n",
              "    }\n",
              "\n",
              "    [theme=dark] .colab-df-convert {\n",
              "      background-color: #3B4455;\n",
              "      fill: #D2E3FC;\n",
              "    }\n",
              "\n",
              "    [theme=dark] .colab-df-convert:hover {\n",
              "      background-color: #434B5C;\n",
              "      box-shadow: 0px 1px 3px 1px rgba(0, 0, 0, 0.15);\n",
              "      filter: drop-shadow(0px 1px 2px rgba(0, 0, 0, 0.3));\n",
              "      fill: #FFFFFF;\n",
              "    }\n",
              "  </style>\n",
              "\n",
              "      <script>\n",
              "        const buttonEl =\n",
              "          document.querySelector('#df-32e78512-e273-4f34-bacc-7f57bcdd1099 button.colab-df-convert');\n",
              "        buttonEl.style.display =\n",
              "          google.colab.kernel.accessAllowed ? 'block' : 'none';\n",
              "\n",
              "        async function convertToInteractive(key) {\n",
              "          const element = document.querySelector('#df-32e78512-e273-4f34-bacc-7f57bcdd1099');\n",
              "          const dataTable =\n",
              "            await google.colab.kernel.invokeFunction('convertToInteractive',\n",
              "                                                     [key], {});\n",
              "          if (!dataTable) return;\n",
              "\n",
              "          const docLinkHtml = 'Like what you see? Visit the ' +\n",
              "            '<a target=\"_blank\" href=https://colab.research.google.com/notebooks/data_table.ipynb>data table notebook</a>'\n",
              "            + ' to learn more about interactive tables.';\n",
              "          element.innerHTML = '';\n",
              "          dataTable['output_type'] = 'display_data';\n",
              "          await google.colab.output.renderOutput(dataTable, element);\n",
              "          const docLink = document.createElement('div');\n",
              "          docLink.innerHTML = docLinkHtml;\n",
              "          element.appendChild(docLink);\n",
              "        }\n",
              "      </script>\n",
              "    </div>\n",
              "  </div>\n",
              "  "
            ],
            "text/plain": [
              "   PassengerId  Survived  Pclass  \\\n",
              "0            1         0       3   \n",
              "1            2         1       1   \n",
              "2            3         1       3   \n",
              "3            4         1       1   \n",
              "4            5         0       3   \n",
              "5            6         0       3   \n",
              "6            7         0       1   \n",
              "7            8         0       3   \n",
              "8            9         1       3   \n",
              "9           10         1       2   \n",
              "\n",
              "                                                Name     Sex   Age  SibSp  \\\n",
              "0                            Braund, Mr. Owen Harris    male  22.0      1   \n",
              "1  Cumings, Mrs. John Bradley (Florence Briggs Th...  female  38.0      1   \n",
              "2                             Heikkinen, Miss. Laina  female  26.0      0   \n",
              "3       Futrelle, Mrs. Jacques Heath (Lily May Peel)  female  35.0      1   \n",
              "4                           Allen, Mr. William Henry    male  35.0      0   \n",
              "5                                   Moran, Mr. James    male   NaN      0   \n",
              "6                            McCarthy, Mr. Timothy J    male  54.0      0   \n",
              "7                     Palsson, Master. Gosta Leonard    male   2.0      3   \n",
              "8  Johnson, Mrs. Oscar W (Elisabeth Vilhelmina Berg)  female  27.0      0   \n",
              "9                Nasser, Mrs. Nicholas (Adele Achem)  female  14.0      1   \n",
              "\n",
              "   Parch            Ticket     Fare Cabin Embarked  \n",
              "0      0         A/5 21171   7.2500   NaN        S  \n",
              "1      0          PC 17599  71.2833   C85        C  \n",
              "2      0  STON/O2. 3101282   7.9250   NaN        S  \n",
              "3      0            113803  53.1000  C123        S  \n",
              "4      0            373450   8.0500   NaN        S  \n",
              "5      0            330877   8.4583   NaN        Q  \n",
              "6      0             17463  51.8625   E46        S  \n",
              "7      1            349909  21.0750   NaN        S  \n",
              "8      2            347742  11.1333   NaN        S  \n",
              "9      0            237736  30.0708   NaN        C  "
            ]
          },
          "execution_count": 6,
          "metadata": {},
          "output_type": "execute_result"
        }
      ],
      "source": [
        "import pandas as pd\n",
        "data = pd.read_csv(\"/content/Dataset/train.csv\")\n",
        "data.head(10)"
      ]
    },
    {
      "cell_type": "code",
      "execution_count": null,
      "metadata": {
        "colab": {
          "base_uri": "https://localhost:8080/"
        },
        "id": "GT1XRzy_E6XI",
        "outputId": "06872652-6c21-455c-c08c-f05bffb19685"
      },
      "outputs": [
        {
          "name": "stdout",
          "output_type": "stream",
          "text": [
            "     Survived  Pclass     Sex   Age     Fare Embarked\n",
            "0           0       3    male  22.0   7.2500        S\n",
            "1           1       1  female  38.0  71.2833        C\n",
            "2           1       3  female  26.0   7.9250        S\n",
            "3           1       1  female  35.0  53.1000        S\n",
            "4           0       3    male  35.0   8.0500        S\n",
            "..        ...     ...     ...   ...      ...      ...\n",
            "886         0       2    male  27.0  13.0000        S\n",
            "887         1       1  female  19.0  30.0000        S\n",
            "888         0       3  female   NaN  23.4500        S\n",
            "889         1       1    male  26.0  30.0000        C\n",
            "890         0       3    male  32.0   7.7500        Q\n",
            "\n",
            "[891 rows x 6 columns]\n",
            "Survived      int64\n",
            "Pclass        int64\n",
            "Sex          object\n",
            "Age         float64\n",
            "Fare        float64\n",
            "Embarked     object\n",
            "dtype: object\n"
          ]
        }
      ],
      "source": [
        "## Feature selection:- \n",
        "\n",
        "## Test A:- Gender, Pcalss, Age, Parch, Fare, Embarked \n",
        "refined_data = data[[\"Survived\", \"Pclass\",\"Sex\", \"Age\",\"Fare\", \"Embarked\"]]\n",
        "print(refined_data)\n",
        "print(refined_data.dtypes)"
      ]
    },
    {
      "cell_type": "code",
      "execution_count": null,
      "metadata": {
        "colab": {
          "base_uri": "https://localhost:8080/"
        },
        "id": "v_rI0QYPFxWi",
        "outputId": "988d0e96-3d7b-47ae-c070-71bc8cf7ebc1"
      },
      "outputs": [
        {
          "name": "stdout",
          "output_type": "stream",
          "text": [
            "109\n",
            "233\n"
          ]
        }
      ],
      "source": [
        "m_surviours = refined_data.loc[(refined_data['Survived'] == 1) & (refined_data['Sex']==\"male\")]\n",
        "f_survivours = refined_data.loc[(refined_data['Survived'] == 1) & (refined_data['Sex']==\"female\")]\n",
        "\n",
        "print(m_surviours.shape[0])\n",
        "print(f_survivours.shape[0])"
      ]
    },
    {
      "cell_type": "code",
      "execution_count": null,
      "metadata": {
        "colab": {
          "base_uri": "https://localhost:8080/"
        },
        "id": "QhnBsNsWHPbN",
        "outputId": "5ac89551-0973-44c7-83e4-c22e6377fe5c"
      },
      "outputs": [
        {
          "name": "stdout",
          "output_type": "stream",
          "text": [
            "     Survived  Pclass   Sex    Age     Fare Embarked\n",
            "21          1       2  male  34.00  13.0000        S\n",
            "23          1       1  male  28.00  35.5000        S\n",
            "74          1       3  male  32.00  56.4958        S\n",
            "78          1       2  male   0.83  29.0000        S\n",
            "81          1       3  male  29.00   9.5000        S\n",
            "97          1       1  male  23.00  63.3583        C\n",
            "125         1       3  male  12.00  11.2417        C\n",
            "127         1       3  male  24.00   7.1417        S\n",
            "146         1       3  male  27.00   7.7958        S\n",
            "165         1       3  male   9.00  20.5250        S\n",
            "       Survived     Pclass        Age        Fare\n",
            "count      93.0  93.000000  93.000000   93.000000\n",
            "mean        1.0   1.978495  27.276022   43.793865\n",
            "std         0.0   0.920521  16.504803   76.649011\n",
            "min         1.0   1.000000   0.420000    0.000000\n",
            "25%         1.0   1.000000  18.000000    9.500000\n",
            "50%         1.0   2.000000  28.000000   26.287500\n",
            "75%         1.0   3.000000  36.000000   52.554200\n",
            "max         1.0   3.000000  80.000000  512.329200\n"
          ]
        }
      ],
      "source": [
        "m_surviours.head(10)\n",
        "temp1 = m_surviours.dropna(subset=['Age'])\n",
        "print(temp1.head(10))\n",
        "print(temp1.describe())"
      ]
    },
    {
      "cell_type": "code",
      "execution_count": null,
      "metadata": {
        "colab": {
          "base_uri": "https://localhost:8080/"
        },
        "id": "xpcpxbY1Jwh3",
        "outputId": "70a4d8ae-b0fa-4834-acda-9123b1768598"
      },
      "outputs": [
        {
          "name": "stdout",
          "output_type": "stream",
          "text": [
            "    Survived  Pclass     Sex   Age     Fare Embarked\n",
            "1          1       1  female  38.0  71.2833        C\n",
            "2          1       3  female  26.0   7.9250        S\n",
            "3          1       1  female  35.0  53.1000        S\n",
            "8          1       3  female  27.0  11.1333        S\n",
            "9          1       2  female  14.0  30.0708        C\n",
            "10         1       3  female   4.0  16.7000        S\n",
            "11         1       1  female  58.0  26.5500        S\n",
            "15         1       2  female  55.0  16.0000        S\n",
            "22         1       3  female  15.0   8.0292        Q\n",
            "25         1       3  female  38.0  31.3875        S\n",
            "       Survived      Pclass         Age        Fare\n",
            "count     197.0  197.000000  197.000000  197.000000\n",
            "mean        1.0    1.822335   28.847716   55.643148\n",
            "std         0.0    0.791478   14.175073   67.209168\n",
            "min         1.0    1.000000    0.750000    7.225000\n",
            "25%         1.0    1.000000   19.000000   13.000000\n",
            "50%         1.0    2.000000   28.000000   26.250000\n",
            "75%         1.0    2.000000   38.000000   77.958300\n",
            "max         1.0    3.000000   63.000000  512.329200\n"
          ]
        }
      ],
      "source": [
        "temp2 = f_survivours.dropna(subset=['Age'])\n",
        "print(temp2.head(10))\n",
        "print(temp2.describe())"
      ]
    },
    {
      "cell_type": "markdown",
      "metadata": {
        "id": "QiLuWI7HJkJC"
      },
      "source": [
        "## Mean age among male surviours is 27.27 \n",
        "## Mean age among female surviours is 26.25 \n"
      ]
    },
    {
      "cell_type": "code",
      "execution_count": null,
      "metadata": {
        "colab": {
          "base_uri": "https://localhost:8080/"
        },
        "id": "a1kGCfZqJjJ2",
        "outputId": "71b7d86a-7788-4662-e454-bf377e94c84d"
      },
      "outputs": [
        {
          "name": "stdout",
          "output_type": "stream",
          "text": [
            "468\n",
            "81\n"
          ]
        }
      ],
      "source": [
        "m_died = refined_data.loc[(refined_data['Survived'] == 0) & (refined_data['Sex']==\"male\")]\n",
        "f_died = refined_data.loc[(refined_data['Survived'] == 0) & (refined_data['Sex']==\"female\")]\n",
        "\n",
        "print(m_died.shape[0])\n",
        "print(f_died.shape[0])"
      ]
    },
    {
      "cell_type": "code",
      "execution_count": null,
      "metadata": {
        "colab": {
          "base_uri": "https://localhost:8080/"
        },
        "id": "Q7pvIlWZKfMt",
        "outputId": "15e4e232-bf59-4a9b-9b79-984c8a302dfb"
      },
      "outputs": [
        {
          "name": "stdout",
          "output_type": "stream",
          "text": [
            "       Survived      Pclass         Age        Fare\n",
            "count     468.0  468.000000  360.000000  468.000000\n",
            "mean        0.0    2.476496   31.618056   21.960993\n",
            "std         0.0    0.761411   14.056019   32.409799\n",
            "min         0.0    1.000000    1.000000    0.000000\n",
            "25%         0.0    2.000000   21.750000    7.795800\n",
            "50%         0.0    3.000000   29.000000    9.416650\n",
            "75%         0.0    3.000000   39.250000   26.000000\n",
            "max         0.0    3.000000   74.000000  263.000000\n",
            "       Survived     Pclass        Age        Fare\n",
            "count      81.0  81.000000  64.000000   81.000000\n",
            "mean        0.0   2.851852  25.046875   23.024385\n",
            "std         0.0   0.450309  13.618591   24.821287\n",
            "min         0.0   1.000000   2.000000    6.750000\n",
            "25%         0.0   3.000000  16.750000    8.850000\n",
            "50%         0.0   3.000000  24.500000   15.245800\n",
            "75%         0.0   3.000000  33.250000   27.900000\n",
            "max         0.0   3.000000  57.000000  151.550000\n"
          ]
        }
      ],
      "source": [
        "print(m_died.describe())\n",
        "print(f_died.describe())"
      ]
    },
    {
      "cell_type": "markdown",
      "metadata": {
        "id": "8NFZt_1RUd9R"
      },
      "source": [
        "### Replacing the age with mean age and making a DNN for prediction\n",
        "## Convention \n",
        "female = [0, 1]  \n",
        "male = [1, 0 ] \n",
        "\n",
        "S, C, Q -> 1,2,3  "
      ]
    },
    {
      "cell_type": "code",
      "execution_count": null,
      "metadata": {
        "colab": {
          "base_uri": "https://localhost:8080/"
        },
        "id": "d6lRssc_UTcZ",
        "outputId": "313da7d9-df13-4993-ab67-c7d6d1a2bc7b"
      },
      "outputs": [
        {
          "name": "stdout",
          "output_type": "stream",
          "text": [
            "Survived      int64\n",
            "Pclass        int64\n",
            "Sex          object\n",
            "Age         float64\n",
            "Fare        float64\n",
            "Embarked     object\n",
            "dtype: object\n",
            "Survived      int64\n",
            "Pclass        int64\n",
            "Sex           int64\n",
            "Age         float64\n",
            "Fare        float64\n",
            "Embarked     object\n",
            "dtype: object\n"
          ]
        },
        {
          "name": "stderr",
          "output_type": "stream",
          "text": [
            "<ipython-input-12-3725719b9eb9>:5: SettingWithCopyWarning: \n",
            "A value is trying to be set on a copy of a slice from a DataFrame.\n",
            "Try using .loc[row_indexer,col_indexer] = value instead\n",
            "\n",
            "See the caveats in the documentation: https://pandas.pydata.org/pandas-docs/stable/user_guide/indexing.html#returning-a-view-versus-a-copy\n",
            "  no_nadata['Sex'] = no_nadata['Sex'].astype(str).astype(int)\n"
          ]
        }
      ],
      "source": [
        "no_nadata= refined_data.dropna(subset=['Age'])\n",
        "no_nadata.loc[(no_nadata.Sex)=='male', 'Sex']=0\n",
        "no_nadata.loc[(no_nadata.Sex)=='female', 'Sex']=1\n",
        "print(no_nadata.dtypes)\n",
        "no_nadata['Sex'] = no_nadata['Sex'].astype(str).astype(int)\n",
        "print(no_nadata.dtypes)"
      ]
    },
    {
      "cell_type": "code",
      "execution_count": null,
      "metadata": {
        "colab": {
          "base_uri": "https://localhost:8080/"
        },
        "id": "eZJpGCSroEXl",
        "outputId": "23a44ece-f4c0-4a01-89fa-99dee8397480"
      },
      "outputs": [
        {
          "name": "stdout",
          "output_type": "stream",
          "text": [
            "   Survived  Pclass     Sex   Age     Fare Embarked  0  1  2  3  4\n",
            "0         0       3    male  22.0   7.2500        S  0  1  1  0  0\n",
            "1         1       1  female  38.0  71.2833        C  1  0  0  1  0\n",
            "2         1       3  female  26.0   7.9250        S  1  0  1  0  0\n",
            "3         1       1  female  35.0  53.1000        S  1  0  1  0  0\n",
            "4         0       3    male  35.0   8.0500        S  0  1  1  0  0\n",
            "Survived      int64\n",
            "Pclass        int64\n",
            "Sex          object\n",
            "Age         float64\n",
            "Fare        float64\n",
            "Embarked     object\n",
            "0             int64\n",
            "1             int64\n",
            "2             int64\n",
            "3             int64\n",
            "4             int64\n",
            "dtype: object\n"
          ]
        },
        {
          "name": "stderr",
          "output_type": "stream",
          "text": [
            "<ipython-input-8-ade07f15e069>:2: SettingWithCopyWarning: \n",
            "A value is trying to be set on a copy of a slice from a DataFrame.\n",
            "Try using .loc[row_indexer,col_indexer] = value instead\n",
            "\n",
            "See the caveats in the documentation: https://pandas.pydata.org/pandas-docs/stable/user_guide/indexing.html#returning-a-view-versus-a-copy\n",
            "  no_nadata[\"0\"]=[0 if i==\"male\" else 1 for i in no_nadata[\"Sex\"].values]\n",
            "<ipython-input-8-ade07f15e069>:3: SettingWithCopyWarning: \n",
            "A value is trying to be set on a copy of a slice from a DataFrame.\n",
            "Try using .loc[row_indexer,col_indexer] = value instead\n",
            "\n",
            "See the caveats in the documentation: https://pandas.pydata.org/pandas-docs/stable/user_guide/indexing.html#returning-a-view-versus-a-copy\n",
            "  no_nadata[\"1\"]=[1 if i==\"male\" else 0 for i in no_nadata[\"Sex\"].values]\n",
            "<ipython-input-8-ade07f15e069>:4: SettingWithCopyWarning: \n",
            "A value is trying to be set on a copy of a slice from a DataFrame.\n",
            "Try using .loc[row_indexer,col_indexer] = value instead\n",
            "\n",
            "See the caveats in the documentation: https://pandas.pydata.org/pandas-docs/stable/user_guide/indexing.html#returning-a-view-versus-a-copy\n",
            "  no_nadata[\"2\"]=[1 if i==\"S\" else 0 for i in no_nadata[\"Embarked\"].values]\n",
            "<ipython-input-8-ade07f15e069>:5: SettingWithCopyWarning: \n",
            "A value is trying to be set on a copy of a slice from a DataFrame.\n",
            "Try using .loc[row_indexer,col_indexer] = value instead\n",
            "\n",
            "See the caveats in the documentation: https://pandas.pydata.org/pandas-docs/stable/user_guide/indexing.html#returning-a-view-versus-a-copy\n",
            "  no_nadata[\"3\"]=[1 if i==\"C\" else 0 for i in no_nadata[\"Embarked\"].values]\n",
            "<ipython-input-8-ade07f15e069>:6: SettingWithCopyWarning: \n",
            "A value is trying to be set on a copy of a slice from a DataFrame.\n",
            "Try using .loc[row_indexer,col_indexer] = value instead\n",
            "\n",
            "See the caveats in the documentation: https://pandas.pydata.org/pandas-docs/stable/user_guide/indexing.html#returning-a-view-versus-a-copy\n",
            "  no_nadata[\"4\"]=[1 if i==\"Q\" else 0 for i in no_nadata[\"Embarked\"].values]\n"
          ]
        }
      ],
      "source": [
        "no_nadata= refined_data.dropna(subset=['Age'])\n",
        "no_nadata[\"0\"]=[0 if i==\"male\" else 1 for i in no_nadata[\"Sex\"].values]\n",
        "no_nadata[\"1\"]=[1 if i==\"male\" else 0 for i in no_nadata[\"Sex\"].values]\n",
        "no_nadata[\"2\"]=[1 if i==\"S\" else 0 for i in no_nadata[\"Embarked\"].values]\n",
        "no_nadata[\"3\"]=[1 if i==\"C\" else 0 for i in no_nadata[\"Embarked\"].values]\n",
        "no_nadata[\"4\"]=[1 if i==\"Q\" else 0 for i in no_nadata[\"Embarked\"].values]\n",
        "## [S,C, ]\n",
        "print(no_nadata.head(5))\n",
        "print(no_nadata.dtypes)"
      ]
    },
    {
      "cell_type": "code",
      "execution_count": null,
      "metadata": {
        "colab": {
          "base_uri": "https://localhost:8080/",
          "height": 363
        },
        "id": "l-DVu7RjY1OO",
        "outputId": "b2c05130-9378-4775-df1e-773903448ab9"
      },
      "outputs": [
        {
          "data": {
            "text/html": [
              "\n",
              "  <div id=\"df-dcefaa3a-f5c4-4868-a3eb-5feb74327075\">\n",
              "    <div class=\"colab-df-container\">\n",
              "      <div>\n",
              "<style scoped>\n",
              "    .dataframe tbody tr th:only-of-type {\n",
              "        vertical-align: middle;\n",
              "    }\n",
              "\n",
              "    .dataframe tbody tr th {\n",
              "        vertical-align: top;\n",
              "    }\n",
              "\n",
              "    .dataframe thead th {\n",
              "        text-align: right;\n",
              "    }\n",
              "</style>\n",
              "<table border=\"1\" class=\"dataframe\">\n",
              "  <thead>\n",
              "    <tr style=\"text-align: right;\">\n",
              "      <th></th>\n",
              "      <th>Survived</th>\n",
              "      <th>Age</th>\n",
              "      <th>Fare</th>\n",
              "      <th>0</th>\n",
              "      <th>1</th>\n",
              "      <th>2</th>\n",
              "      <th>3</th>\n",
              "      <th>4</th>\n",
              "      <th>5</th>\n",
              "      <th>6</th>\n",
              "      <th>7</th>\n",
              "      <th>8</th>\n",
              "    </tr>\n",
              "  </thead>\n",
              "  <tbody>\n",
              "    <tr>\n",
              "      <th>0</th>\n",
              "      <td>0</td>\n",
              "      <td>22.0</td>\n",
              "      <td>7.2500</td>\n",
              "      <td>1.0</td>\n",
              "      <td>0.0</td>\n",
              "      <td>0.0</td>\n",
              "      <td>0.0</td>\n",
              "      <td>1.0</td>\n",
              "      <td>0.0</td>\n",
              "      <td>0.0</td>\n",
              "      <td>0.0</td>\n",
              "      <td>1.0</td>\n",
              "    </tr>\n",
              "    <tr>\n",
              "      <th>1</th>\n",
              "      <td>1</td>\n",
              "      <td>38.0</td>\n",
              "      <td>71.2833</td>\n",
              "      <td>0.0</td>\n",
              "      <td>1.0</td>\n",
              "      <td>1.0</td>\n",
              "      <td>0.0</td>\n",
              "      <td>0.0</td>\n",
              "      <td>0.0</td>\n",
              "      <td>1.0</td>\n",
              "      <td>0.0</td>\n",
              "      <td>0.0</td>\n",
              "    </tr>\n",
              "    <tr>\n",
              "      <th>2</th>\n",
              "      <td>1</td>\n",
              "      <td>26.0</td>\n",
              "      <td>7.9250</td>\n",
              "      <td>0.0</td>\n",
              "      <td>1.0</td>\n",
              "      <td>0.0</td>\n",
              "      <td>0.0</td>\n",
              "      <td>1.0</td>\n",
              "      <td>0.0</td>\n",
              "      <td>0.0</td>\n",
              "      <td>0.0</td>\n",
              "      <td>1.0</td>\n",
              "    </tr>\n",
              "    <tr>\n",
              "      <th>3</th>\n",
              "      <td>1</td>\n",
              "      <td>35.0</td>\n",
              "      <td>53.1000</td>\n",
              "      <td>0.0</td>\n",
              "      <td>1.0</td>\n",
              "      <td>0.0</td>\n",
              "      <td>0.0</td>\n",
              "      <td>1.0</td>\n",
              "      <td>0.0</td>\n",
              "      <td>1.0</td>\n",
              "      <td>0.0</td>\n",
              "      <td>0.0</td>\n",
              "    </tr>\n",
              "    <tr>\n",
              "      <th>4</th>\n",
              "      <td>0</td>\n",
              "      <td>35.0</td>\n",
              "      <td>8.0500</td>\n",
              "      <td>1.0</td>\n",
              "      <td>0.0</td>\n",
              "      <td>0.0</td>\n",
              "      <td>0.0</td>\n",
              "      <td>1.0</td>\n",
              "      <td>0.0</td>\n",
              "      <td>0.0</td>\n",
              "      <td>0.0</td>\n",
              "      <td>1.0</td>\n",
              "    </tr>\n",
              "    <tr>\n",
              "      <th>6</th>\n",
              "      <td>0</td>\n",
              "      <td>54.0</td>\n",
              "      <td>51.8625</td>\n",
              "      <td>1.0</td>\n",
              "      <td>0.0</td>\n",
              "      <td>0.0</td>\n",
              "      <td>0.0</td>\n",
              "      <td>1.0</td>\n",
              "      <td>0.0</td>\n",
              "      <td>0.0</td>\n",
              "      <td>0.0</td>\n",
              "      <td>1.0</td>\n",
              "    </tr>\n",
              "    <tr>\n",
              "      <th>7</th>\n",
              "      <td>0</td>\n",
              "      <td>2.0</td>\n",
              "      <td>21.0750</td>\n",
              "      <td>0.0</td>\n",
              "      <td>1.0</td>\n",
              "      <td>0.0</td>\n",
              "      <td>0.0</td>\n",
              "      <td>1.0</td>\n",
              "      <td>0.0</td>\n",
              "      <td>0.0</td>\n",
              "      <td>0.0</td>\n",
              "      <td>1.0</td>\n",
              "    </tr>\n",
              "    <tr>\n",
              "      <th>8</th>\n",
              "      <td>1</td>\n",
              "      <td>27.0</td>\n",
              "      <td>11.1333</td>\n",
              "      <td>0.0</td>\n",
              "      <td>1.0</td>\n",
              "      <td>1.0</td>\n",
              "      <td>0.0</td>\n",
              "      <td>0.0</td>\n",
              "      <td>0.0</td>\n",
              "      <td>0.0</td>\n",
              "      <td>1.0</td>\n",
              "      <td>0.0</td>\n",
              "    </tr>\n",
              "    <tr>\n",
              "      <th>9</th>\n",
              "      <td>1</td>\n",
              "      <td>14.0</td>\n",
              "      <td>30.0708</td>\n",
              "      <td>0.0</td>\n",
              "      <td>1.0</td>\n",
              "      <td>0.0</td>\n",
              "      <td>0.0</td>\n",
              "      <td>1.0</td>\n",
              "      <td>0.0</td>\n",
              "      <td>0.0</td>\n",
              "      <td>0.0</td>\n",
              "      <td>1.0</td>\n",
              "    </tr>\n",
              "    <tr>\n",
              "      <th>10</th>\n",
              "      <td>1</td>\n",
              "      <td>4.0</td>\n",
              "      <td>16.7000</td>\n",
              "      <td>0.0</td>\n",
              "      <td>1.0</td>\n",
              "      <td>0.0</td>\n",
              "      <td>0.0</td>\n",
              "      <td>1.0</td>\n",
              "      <td>0.0</td>\n",
              "      <td>1.0</td>\n",
              "      <td>0.0</td>\n",
              "      <td>0.0</td>\n",
              "    </tr>\n",
              "  </tbody>\n",
              "</table>\n",
              "</div>\n",
              "      <button class=\"colab-df-convert\" onclick=\"convertToInteractive('df-dcefaa3a-f5c4-4868-a3eb-5feb74327075')\"\n",
              "              title=\"Convert this dataframe to an interactive table.\"\n",
              "              style=\"display:none;\">\n",
              "        \n",
              "  <svg xmlns=\"http://www.w3.org/2000/svg\" height=\"24px\"viewBox=\"0 0 24 24\"\n",
              "       width=\"24px\">\n",
              "    <path d=\"M0 0h24v24H0V0z\" fill=\"none\"/>\n",
              "    <path d=\"M18.56 5.44l.94 2.06.94-2.06 2.06-.94-2.06-.94-.94-2.06-.94 2.06-2.06.94zm-11 1L8.5 8.5l.94-2.06 2.06-.94-2.06-.94L8.5 2.5l-.94 2.06-2.06.94zm10 10l.94 2.06.94-2.06 2.06-.94-2.06-.94-.94-2.06-.94 2.06-2.06.94z\"/><path d=\"M17.41 7.96l-1.37-1.37c-.4-.4-.92-.59-1.43-.59-.52 0-1.04.2-1.43.59L10.3 9.45l-7.72 7.72c-.78.78-.78 2.05 0 2.83L4 21.41c.39.39.9.59 1.41.59.51 0 1.02-.2 1.41-.59l7.78-7.78 2.81-2.81c.8-.78.8-2.07 0-2.86zM5.41 20L4 18.59l7.72-7.72 1.47 1.35L5.41 20z\"/>\n",
              "  </svg>\n",
              "      </button>\n",
              "      \n",
              "  <style>\n",
              "    .colab-df-container {\n",
              "      display:flex;\n",
              "      flex-wrap:wrap;\n",
              "      gap: 12px;\n",
              "    }\n",
              "\n",
              "    .colab-df-convert {\n",
              "      background-color: #E8F0FE;\n",
              "      border: none;\n",
              "      border-radius: 50%;\n",
              "      cursor: pointer;\n",
              "      display: none;\n",
              "      fill: #1967D2;\n",
              "      height: 32px;\n",
              "      padding: 0 0 0 0;\n",
              "      width: 32px;\n",
              "    }\n",
              "\n",
              "    .colab-df-convert:hover {\n",
              "      background-color: #E2EBFA;\n",
              "      box-shadow: 0px 1px 2px rgba(60, 64, 67, 0.3), 0px 1px 3px 1px rgba(60, 64, 67, 0.15);\n",
              "      fill: #174EA6;\n",
              "    }\n",
              "\n",
              "    [theme=dark] .colab-df-convert {\n",
              "      background-color: #3B4455;\n",
              "      fill: #D2E3FC;\n",
              "    }\n",
              "\n",
              "    [theme=dark] .colab-df-convert:hover {\n",
              "      background-color: #434B5C;\n",
              "      box-shadow: 0px 1px 3px 1px rgba(0, 0, 0, 0.15);\n",
              "      filter: drop-shadow(0px 1px 2px rgba(0, 0, 0, 0.3));\n",
              "      fill: #FFFFFF;\n",
              "    }\n",
              "  </style>\n",
              "\n",
              "      <script>\n",
              "        const buttonEl =\n",
              "          document.querySelector('#df-dcefaa3a-f5c4-4868-a3eb-5feb74327075 button.colab-df-convert');\n",
              "        buttonEl.style.display =\n",
              "          google.colab.kernel.accessAllowed ? 'block' : 'none';\n",
              "\n",
              "        async function convertToInteractive(key) {\n",
              "          const element = document.querySelector('#df-dcefaa3a-f5c4-4868-a3eb-5feb74327075');\n",
              "          const dataTable =\n",
              "            await google.colab.kernel.invokeFunction('convertToInteractive',\n",
              "                                                     [key], {});\n",
              "          if (!dataTable) return;\n",
              "\n",
              "          const docLinkHtml = 'Like what you see? Visit the ' +\n",
              "            '<a target=\"_blank\" href=https://colab.research.google.com/notebooks/data_table.ipynb>data table notebook</a>'\n",
              "            + ' to learn more about interactive tables.';\n",
              "          element.innerHTML = '';\n",
              "          dataTable['output_type'] = 'display_data';\n",
              "          await google.colab.output.renderOutput(dataTable, element);\n",
              "          const docLink = document.createElement('div');\n",
              "          docLink.innerHTML = docLinkHtml;\n",
              "          element.appendChild(docLink);\n",
              "        }\n",
              "      </script>\n",
              "    </div>\n",
              "  </div>\n",
              "  "
            ],
            "text/plain": [
              "    Survived   Age     Fare    0    1    2    3    4    5    6    7    8\n",
              "0          0  22.0   7.2500  1.0  0.0  0.0  0.0  1.0  0.0  0.0  0.0  1.0\n",
              "1          1  38.0  71.2833  0.0  1.0  1.0  0.0  0.0  0.0  1.0  0.0  0.0\n",
              "2          1  26.0   7.9250  0.0  1.0  0.0  0.0  1.0  0.0  0.0  0.0  1.0\n",
              "3          1  35.0  53.1000  0.0  1.0  0.0  0.0  1.0  0.0  1.0  0.0  0.0\n",
              "4          0  35.0   8.0500  1.0  0.0  0.0  0.0  1.0  0.0  0.0  0.0  1.0\n",
              "6          0  54.0  51.8625  1.0  0.0  0.0  0.0  1.0  0.0  0.0  0.0  1.0\n",
              "7          0   2.0  21.0750  0.0  1.0  0.0  0.0  1.0  0.0  0.0  0.0  1.0\n",
              "8          1  27.0  11.1333  0.0  1.0  1.0  0.0  0.0  0.0  0.0  1.0  0.0\n",
              "9          1  14.0  30.0708  0.0  1.0  0.0  0.0  1.0  0.0  0.0  0.0  1.0\n",
              "10         1   4.0  16.7000  0.0  1.0  0.0  0.0  1.0  0.0  1.0  0.0  0.0"
            ]
          },
          "execution_count": 34,
          "metadata": {},
          "output_type": "execute_result"
        }
      ],
      "source": [
        "from sklearn.preprocessing import OneHotEncoder\n",
        "encoder = OneHotEncoder(handle_unknown='ignore')\n",
        "encoder_df = pd.DataFrame(encoder.fit_transform(no_nadata[['Sex','Embarked','Pclass']]).toarray())\n",
        "final_df = no_nadata.join(encoder_df)\n",
        "final_df.drop('Sex', axis=1, inplace=True)\n",
        "final_df.drop('Embarked', axis=1, inplace=True)\n",
        "final_df.drop('Pclass', axis=1, inplace=True)\n",
        "final_df.head(10)"
      ]
    },
    {
      "cell_type": "code",
      "execution_count": null,
      "metadata": {
        "id": "47o9AbLMY1Ra"
      },
      "outputs": [],
      "source": []
    },
    {
      "cell_type": "code",
      "execution_count": null,
      "metadata": {
        "id": "ydHtEyElVGeo"
      },
      "outputs": [],
      "source": [
        "import tensorflow as tf\n",
        "from tensorflow import keras\n",
        "from tensorflow.keras import layers\n",
        "from tensorflow.keras import activations"
      ]
    },
    {
      "cell_type": "code",
      "execution_count": null,
      "metadata": {
        "id": "7dt5SpvlVKoA"
      },
      "outputs": [],
      "source": [
        "model = keras.Sequential() \n",
        "\n",
        "## first layer\n",
        "model.add(layers.Dense(128, input_shape=(8,)))\n",
        "model.add(layers.BatchNormalization())\n",
        "model.add(layers.Activation('relu'))\n",
        "model.add(layers.Dropout(0.3))\n",
        "\n",
        "model.add(layers.Dense(64))\n",
        "model.add(layers.BatchNormalization())\n",
        "model.add(layers.Activation('relu'))\n",
        "model.add(layers.Dropout(0.3))\n",
        "\n",
        "model.add(layers.Dense(32))\n",
        "model.add(layers.BatchNormalization())\n",
        "model.add(layers.Activation('relu'))\n",
        "model.add(layers.Dropout(0.3))\n",
        "\n",
        "model.add(layers.Dense(2)) ## 2 since either dead or alive better to give a probability\n",
        "model.add(layers.Activation('softmax'))"
      ]
    },
    {
      "cell_type": "code",
      "execution_count": null,
      "metadata": {
        "id": "aBJzqAlUSqts"
      },
      "outputs": [],
      "source": [
        "import numpy as np"
      ]
    },
    {
      "cell_type": "code",
      "execution_count": null,
      "metadata": {
        "colab": {
          "base_uri": "https://localhost:8080/"
        },
        "id": "3m4nU7fQSqz2",
        "outputId": "8e24f7c6-6be6-4873-f71e-79e2ae78384d"
      },
      "outputs": [
        {
          "name": "stdout",
          "output_type": "stream",
          "text": [
            "Survived    float32\n",
            "Pclass      float32\n",
            "Sex          object\n",
            "Age         float32\n",
            "Fare        float32\n",
            "Embarked     object\n",
            "0           float32\n",
            "1           float32\n",
            "2           float32\n",
            "3           float32\n",
            "4           float32\n",
            "dtype: object\n"
          ]
        }
      ],
      "source": [
        "print(no_nadata.dtypes)"
      ]
    },
    {
      "cell_type": "code",
      "execution_count": null,
      "metadata": {
        "colab": {
          "base_uri": "https://localhost:8080/"
        },
        "id": "TpyDhp4TScmu",
        "outputId": "6d33a73c-445f-40ef-94b7-70db0fe16bc7"
      },
      "outputs": [
        {
          "name": "stderr",
          "output_type": "stream",
          "text": [
            "<ipython-input-22-306a179342ae>:1: SettingWithCopyWarning: \n",
            "A value is trying to be set on a copy of a slice from a DataFrame.\n",
            "Try using .loc[row_indexer,col_indexer] = value instead\n",
            "\n",
            "See the caveats in the documentation: https://pandas.pydata.org/pandas-docs/stable/user_guide/indexing.html#returning-a-view-versus-a-copy\n",
            "  no_nadata[\"Survived\"] = np.asarray(no_nadata[\"Survived\"]).astype(np.float32)\n",
            "<ipython-input-22-306a179342ae>:2: SettingWithCopyWarning: \n",
            "A value is trying to be set on a copy of a slice from a DataFrame.\n",
            "Try using .loc[row_indexer,col_indexer] = value instead\n",
            "\n",
            "See the caveats in the documentation: https://pandas.pydata.org/pandas-docs/stable/user_guide/indexing.html#returning-a-view-versus-a-copy\n",
            "  no_nadata[\"Pclass\"] = np.asarray(no_nadata[\"Pclass\"]).astype(np.float32)\n",
            "<ipython-input-22-306a179342ae>:3: SettingWithCopyWarning: \n",
            "A value is trying to be set on a copy of a slice from a DataFrame.\n",
            "Try using .loc[row_indexer,col_indexer] = value instead\n",
            "\n",
            "See the caveats in the documentation: https://pandas.pydata.org/pandas-docs/stable/user_guide/indexing.html#returning-a-view-versus-a-copy\n",
            "  no_nadata[\"Age\"] = np.asarray(no_nadata[\"Age\"]).astype(np.float32)\n",
            "<ipython-input-22-306a179342ae>:4: SettingWithCopyWarning: \n",
            "A value is trying to be set on a copy of a slice from a DataFrame.\n",
            "Try using .loc[row_indexer,col_indexer] = value instead\n",
            "\n",
            "See the caveats in the documentation: https://pandas.pydata.org/pandas-docs/stable/user_guide/indexing.html#returning-a-view-versus-a-copy\n",
            "  no_nadata[\"Fare\"] = np.asarray(no_nadata[\"Fare\"]).astype(np.float32)\n",
            "<ipython-input-22-306a179342ae>:5: SettingWithCopyWarning: \n",
            "A value is trying to be set on a copy of a slice from a DataFrame.\n",
            "Try using .loc[row_indexer,col_indexer] = value instead\n",
            "\n",
            "See the caveats in the documentation: https://pandas.pydata.org/pandas-docs/stable/user_guide/indexing.html#returning-a-view-versus-a-copy\n",
            "  no_nadata[\"0\"] = np.asarray(no_nadata[\"0\"]).astype(np.float32)\n",
            "<ipython-input-22-306a179342ae>:6: SettingWithCopyWarning: \n",
            "A value is trying to be set on a copy of a slice from a DataFrame.\n",
            "Try using .loc[row_indexer,col_indexer] = value instead\n",
            "\n",
            "See the caveats in the documentation: https://pandas.pydata.org/pandas-docs/stable/user_guide/indexing.html#returning-a-view-versus-a-copy\n",
            "  no_nadata[\"1\"] = np.asarray(no_nadata[\"1\"]).astype(np.float32)\n",
            "<ipython-input-22-306a179342ae>:7: SettingWithCopyWarning: \n",
            "A value is trying to be set on a copy of a slice from a DataFrame.\n",
            "Try using .loc[row_indexer,col_indexer] = value instead\n",
            "\n",
            "See the caveats in the documentation: https://pandas.pydata.org/pandas-docs/stable/user_guide/indexing.html#returning-a-view-versus-a-copy\n",
            "  no_nadata[\"2\"] = np.asarray(no_nadata[\"2\"]).astype(np.float32)\n",
            "<ipython-input-22-306a179342ae>:8: SettingWithCopyWarning: \n",
            "A value is trying to be set on a copy of a slice from a DataFrame.\n",
            "Try using .loc[row_indexer,col_indexer] = value instead\n",
            "\n",
            "See the caveats in the documentation: https://pandas.pydata.org/pandas-docs/stable/user_guide/indexing.html#returning-a-view-versus-a-copy\n",
            "  no_nadata[\"3\"] = np.asarray(no_nadata[\"3\"]).astype(np.float32)\n",
            "<ipython-input-22-306a179342ae>:9: SettingWithCopyWarning: \n",
            "A value is trying to be set on a copy of a slice from a DataFrame.\n",
            "Try using .loc[row_indexer,col_indexer] = value instead\n",
            "\n",
            "See the caveats in the documentation: https://pandas.pydata.org/pandas-docs/stable/user_guide/indexing.html#returning-a-view-versus-a-copy\n",
            "  no_nadata[\"4\"] = np.asarray(no_nadata[\"4\"]).astype(np.float32)\n"
          ]
        }
      ],
      "source": [
        "no_nadata[\"Survived\"] = np.asarray(no_nadata[\"Survived\"]).astype(np.float32)\n",
        "no_nadata[\"Pclass\"] = np.asarray(no_nadata[\"Pclass\"]).astype(np.float32)\n",
        "no_nadata[\"Age\"] = np.asarray(no_nadata[\"Age\"]).astype(np.float32)\n",
        "no_nadata[\"Fare\"] = np.asarray(no_nadata[\"Fare\"]).astype(np.float32)\n",
        "no_nadata[\"0\"] = np.asarray(no_nadata[\"0\"]).astype(np.float32)\n",
        "no_nadata[\"1\"] = np.asarray(no_nadata[\"1\"]).astype(np.float32)\n",
        "no_nadata[\"2\"] = np.asarray(no_nadata[\"2\"]).astype(np.float32)\n",
        "no_nadata[\"3\"] = np.asarray(no_nadata[\"3\"]).astype(np.float32)\n",
        "no_nadata[\"4\"] = np.asarray(no_nadata[\"4\"]).astype(np.float32)"
      ]
    },
    {
      "cell_type": "code",
      "execution_count": null,
      "metadata": {
        "colab": {
          "base_uri": "https://localhost:8080/"
        },
        "id": "V5JXAaO4O2fV",
        "outputId": "3bd9a207-184e-49b1-95c0-58dd944bf92f"
      },
      "outputs": [
        {
          "name": "stdout",
          "output_type": "stream",
          "text": [
            "(9, 714)\n"
          ]
        }
      ],
      "source": [
        "age_tensor = tf.convert_to_tensor(no_nadata[\"Age\"])\n",
        "survived_tensor = tf.convert_to_tensor(no_nadata[\"Survived\"])\n",
        "pclass_tensor = tf.convert_to_tensor(no_nadata[\"Pclass\"])\n",
        "fare_tensor = tf.convert_to_tensor(no_nadata[\"Fare\"])\n",
        "sex_tensor_0 = tf.convert_to_tensor(no_nadata[\"0\"])\n",
        "sex_tensor_1 = tf.convert_to_tensor(no_nadata[\"1\"])\n",
        "embark_tensor_0 = tf.convert_to_tensor(no_nadata[\"2\"])\n",
        "embark_tensor_1 = tf.convert_to_tensor(no_nadata[\"3\"])\n",
        "embark_tensor_2 = tf.convert_to_tensor(no_nadata[\"4\"])\n",
        "\n",
        "combined_data = tf.convert_to_tensor([age_tensor, survived_tensor,pclass_tensor,fare_tensor,sex_tensor_0,sex_tensor_1,embark_tensor_0,embark_tensor_1, \n",
        "                                      embark_tensor_2])\n",
        "print(combined_data.shape)"
      ]
    },
    {
      "cell_type": "code",
      "execution_count": null,
      "metadata": {
        "id": "19JqxPw-VWRY"
      },
      "outputs": [],
      "source": [
        "## returns the dataset with \n",
        "def get_dataset(tensor):\n",
        "  dataset = tf.data.Dataset.from_tensors(tensor)\n",
        "  \n"
      ]
    }
  ],
  "metadata": {
    "colab": {
      "provenance": []
    },
    "kernelspec": {
      "display_name": "Python 3",
      "name": "python3"
    },
    "language_info": {
      "name": "python"
    }
  },
  "nbformat": 4,
  "nbformat_minor": 0
}
