{
  "nbformat": 4,
  "nbformat_minor": 0,
  "metadata": {
    "colab": {
      "provenance": []
    },
    "kernelspec": {
      "name": "python3",
      "display_name": "Python 3"
    },
    "language_info": {
      "name": "python"
    }
  },
  "cells": [
    {
      "cell_type": "code",
      "execution_count": null,
      "metadata": {
        "id": "aFJ16s8bEPkl"
      },
      "outputs": [],
      "source": [
        "from google.colab import files\n",
        "files.upload()"
      ]
    },
    {
      "cell_type": "code",
      "source": [
        "!rm -r ~/.kaggle\n",
        "!mkdir ~/.kaggle\n",
        "!mv ./kaggle.json ~/.kaggle/\n",
        "!chmod 600 ~/.kaggle/kaggle.json"
      ],
      "metadata": {
        "colab": {
          "base_uri": "https://localhost:8080/"
        },
        "id": "lsNUh6hcEX01",
        "outputId": "dbb1ec9c-95bf-4dd0-ae56-714101f2b3ee"
      },
      "execution_count": 2,
      "outputs": [
        {
          "output_type": "stream",
          "name": "stdout",
          "text": [
            "rm: cannot remove '/root/.kaggle': No such file or directory\n"
          ]
        }
      ]
    },
    {
      "cell_type": "code",
      "source": [
        "!kaggle competitions download -c titanic"
      ],
      "metadata": {
        "colab": {
          "base_uri": "https://localhost:8080/"
        },
        "id": "Vva2I_eeEar3",
        "outputId": "2b09f8a1-fec0-4158-8142-52ccf9cbe163"
      },
      "execution_count": 3,
      "outputs": [
        {
          "output_type": "stream",
          "name": "stdout",
          "text": [
            "Downloading titanic.zip to /content\n",
            "\r  0% 0.00/34.1k [00:00<?, ?B/s]\n",
            "\r100% 34.1k/34.1k [00:00<00:00, 2.34MB/s]\n"
          ]
        }
      ]
    },
    {
      "cell_type": "code",
      "source": [
        "!mkdir Dataset\n",
        "!cp /content/titanic.zip /content/Dataset/titanic.zip\n",
        "!unzip -q /content/Dataset/titanic.zip -d /content/Dataset\n",
        "!rm /content/Dataset/titanic.zip"
      ],
      "metadata": {
        "id": "1En17qk7Egc5"
      },
      "execution_count": 4,
      "outputs": []
    },
    {
      "cell_type": "code",
      "source": [
        "!ls /content/Dataset/"
      ],
      "metadata": {
        "colab": {
          "base_uri": "https://localhost:8080/"
        },
        "id": "-D4H4BAvEsOB",
        "outputId": "f7583829-ea02-4dab-e000-edae7a434796"
      },
      "execution_count": 5,
      "outputs": [
        {
          "output_type": "stream",
          "name": "stdout",
          "text": [
            "gender_submission.csv  test.csv  train.csv\n"
          ]
        }
      ]
    },
    {
      "cell_type": "code",
      "source": [
        "import pandas as pd\n",
        "data = pd.read_csv(\"/content/Dataset/train.csv\")\n",
        "test = pd.read_csv(\"/content/Dataset/test.csv\")\n",
        "print(test.dtypes)"
      ],
      "metadata": {
        "colab": {
          "base_uri": "https://localhost:8080/"
        },
        "id": "99jlEILDEpxb",
        "outputId": "ea508c3a-a221-475f-d533-10f4a58d1c2f"
      },
      "execution_count": 6,
      "outputs": [
        {
          "output_type": "stream",
          "name": "stdout",
          "text": [
            "PassengerId      int64\n",
            "Pclass           int64\n",
            "Name            object\n",
            "Sex             object\n",
            "Age            float64\n",
            "SibSp            int64\n",
            "Parch            int64\n",
            "Ticket          object\n",
            "Fare           float64\n",
            "Cabin           object\n",
            "Embarked        object\n",
            "dtype: object\n"
          ]
        }
      ]
    },
    {
      "cell_type": "code",
      "source": [
        "## Feature selection:- \n",
        "\n",
        "## Test A:- Gender, Pcalss, Age, Parch, Fare, Embarked \n",
        "refined_data = data[[\"Survived\", \"Pclass\",\"Sex\", \"Age\",\"Fare\", \"Embarked\"]]\n",
        "refined_test = test[[\"Pclass\", \"Sex\", \"Age\", \"Fare\", \"Embarked\"]]\n",
        "print(refined_data)\n",
        "##print(refined_data.dtypes)\n",
        "print(refined_test.dtypes)"
      ],
      "metadata": {
        "colab": {
          "base_uri": "https://localhost:8080/"
        },
        "id": "GT1XRzy_E6XI",
        "outputId": "90877109-e94d-4fb3-eb09-6eacaa2121df"
      },
      "execution_count": 7,
      "outputs": [
        {
          "output_type": "stream",
          "name": "stdout",
          "text": [
            "     Survived  Pclass     Sex   Age     Fare Embarked\n",
            "0           0       3    male  22.0   7.2500        S\n",
            "1           1       1  female  38.0  71.2833        C\n",
            "2           1       3  female  26.0   7.9250        S\n",
            "3           1       1  female  35.0  53.1000        S\n",
            "4           0       3    male  35.0   8.0500        S\n",
            "..        ...     ...     ...   ...      ...      ...\n",
            "886         0       2    male  27.0  13.0000        S\n",
            "887         1       1  female  19.0  30.0000        S\n",
            "888         0       3  female   NaN  23.4500        S\n",
            "889         1       1    male  26.0  30.0000        C\n",
            "890         0       3    male  32.0   7.7500        Q\n",
            "\n",
            "[891 rows x 6 columns]\n",
            "Pclass        int64\n",
            "Sex          object\n",
            "Age         float64\n",
            "Fare        float64\n",
            "Embarked     object\n",
            "dtype: object\n"
          ]
        }
      ]
    },
    {
      "cell_type": "code",
      "source": [
        "#m_surviours = refined_data.loc[(refined_data['Survived'] == 1) & (refined_data['Sex']==\"male\")]\n",
        "f_survivours = refined_data.loc[(refined_data['Survived'] == 1) & (refined_data['Sex']==\"female\")]\n",
        "\n",
        "print(m_surviours.shape[0])\n",
        "print(f_survivours.shape[0])"
      ],
      "metadata": {
        "colab": {
          "base_uri": "https://localhost:8080/"
        },
        "id": "v_rI0QYPFxWi",
        "outputId": "988d0e96-3d7b-47ae-c070-71bc8cf7ebc1"
      },
      "execution_count": null,
      "outputs": [
        {
          "output_type": "stream",
          "name": "stdout",
          "text": [
            "109\n",
            "233\n"
          ]
        }
      ]
    },
    {
      "cell_type": "code",
      "source": [
        "m_surviours.head(10)\n",
        "temp1 = m_surviours.dropna(subset=['Age'])\n",
        "print(temp1.head(10))\n",
        "print(temp1.describe())"
      ],
      "metadata": {
        "colab": {
          "base_uri": "https://localhost:8080/"
        },
        "id": "QhnBsNsWHPbN",
        "outputId": "5ac89551-0973-44c7-83e4-c22e6377fe5c"
      },
      "execution_count": null,
      "outputs": [
        {
          "output_type": "stream",
          "name": "stdout",
          "text": [
            "     Survived  Pclass   Sex    Age     Fare Embarked\n",
            "21          1       2  male  34.00  13.0000        S\n",
            "23          1       1  male  28.00  35.5000        S\n",
            "74          1       3  male  32.00  56.4958        S\n",
            "78          1       2  male   0.83  29.0000        S\n",
            "81          1       3  male  29.00   9.5000        S\n",
            "97          1       1  male  23.00  63.3583        C\n",
            "125         1       3  male  12.00  11.2417        C\n",
            "127         1       3  male  24.00   7.1417        S\n",
            "146         1       3  male  27.00   7.7958        S\n",
            "165         1       3  male   9.00  20.5250        S\n",
            "       Survived     Pclass        Age        Fare\n",
            "count      93.0  93.000000  93.000000   93.000000\n",
            "mean        1.0   1.978495  27.276022   43.793865\n",
            "std         0.0   0.920521  16.504803   76.649011\n",
            "min         1.0   1.000000   0.420000    0.000000\n",
            "25%         1.0   1.000000  18.000000    9.500000\n",
            "50%         1.0   2.000000  28.000000   26.287500\n",
            "75%         1.0   3.000000  36.000000   52.554200\n",
            "max         1.0   3.000000  80.000000  512.329200\n"
          ]
        }
      ]
    },
    {
      "cell_type": "code",
      "source": [
        "temp2 = f_survivours.dropna(subset=['Age'])\n",
        "print(temp2.head(10))\n",
        "print(temp2.describe())"
      ],
      "metadata": {
        "colab": {
          "base_uri": "https://localhost:8080/"
        },
        "id": "xpcpxbY1Jwh3",
        "outputId": "70a4d8ae-b0fa-4834-acda-9123b1768598"
      },
      "execution_count": null,
      "outputs": [
        {
          "output_type": "stream",
          "name": "stdout",
          "text": [
            "    Survived  Pclass     Sex   Age     Fare Embarked\n",
            "1          1       1  female  38.0  71.2833        C\n",
            "2          1       3  female  26.0   7.9250        S\n",
            "3          1       1  female  35.0  53.1000        S\n",
            "8          1       3  female  27.0  11.1333        S\n",
            "9          1       2  female  14.0  30.0708        C\n",
            "10         1       3  female   4.0  16.7000        S\n",
            "11         1       1  female  58.0  26.5500        S\n",
            "15         1       2  female  55.0  16.0000        S\n",
            "22         1       3  female  15.0   8.0292        Q\n",
            "25         1       3  female  38.0  31.3875        S\n",
            "       Survived      Pclass         Age        Fare\n",
            "count     197.0  197.000000  197.000000  197.000000\n",
            "mean        1.0    1.822335   28.847716   55.643148\n",
            "std         0.0    0.791478   14.175073   67.209168\n",
            "min         1.0    1.000000    0.750000    7.225000\n",
            "25%         1.0    1.000000   19.000000   13.000000\n",
            "50%         1.0    2.000000   28.000000   26.250000\n",
            "75%         1.0    2.000000   38.000000   77.958300\n",
            "max         1.0    3.000000   63.000000  512.329200\n"
          ]
        }
      ]
    },
    {
      "cell_type": "markdown",
      "source": [
        "## Mean age among male surviours is 27.27 \n",
        "## Mean age among female surviours is 26.25 \n"
      ],
      "metadata": {
        "id": "QiLuWI7HJkJC"
      }
    },
    {
      "cell_type": "code",
      "source": [
        "m_died = refined_data.loc[(refined_data['Survived'] == 0) & (refined_data['Sex']==\"male\")]\n",
        "f_died = refined_data.loc[(refined_data['Survived'] == 0) & (refined_data['Sex']==\"female\")]\n",
        "\n",
        "print(m_died.shape[0])\n",
        "print(f_died.shape[0])"
      ],
      "metadata": {
        "colab": {
          "base_uri": "https://localhost:8080/"
        },
        "id": "a1kGCfZqJjJ2",
        "outputId": "71b7d86a-7788-4662-e454-bf377e94c84d"
      },
      "execution_count": null,
      "outputs": [
        {
          "output_type": "stream",
          "name": "stdout",
          "text": [
            "468\n",
            "81\n"
          ]
        }
      ]
    },
    {
      "cell_type": "code",
      "source": [
        "print(m_died.describe())\n",
        "print(f_died.describe())"
      ],
      "metadata": {
        "colab": {
          "base_uri": "https://localhost:8080/"
        },
        "id": "Q7pvIlWZKfMt",
        "outputId": "15e4e232-bf59-4a9b-9b79-984c8a302dfb"
      },
      "execution_count": null,
      "outputs": [
        {
          "output_type": "stream",
          "name": "stdout",
          "text": [
            "       Survived      Pclass         Age        Fare\n",
            "count     468.0  468.000000  360.000000  468.000000\n",
            "mean        0.0    2.476496   31.618056   21.960993\n",
            "std         0.0    0.761411   14.056019   32.409799\n",
            "min         0.0    1.000000    1.000000    0.000000\n",
            "25%         0.0    2.000000   21.750000    7.795800\n",
            "50%         0.0    3.000000   29.000000    9.416650\n",
            "75%         0.0    3.000000   39.250000   26.000000\n",
            "max         0.0    3.000000   74.000000  263.000000\n",
            "       Survived     Pclass        Age        Fare\n",
            "count      81.0  81.000000  64.000000   81.000000\n",
            "mean        0.0   2.851852  25.046875   23.024385\n",
            "std         0.0   0.450309  13.618591   24.821287\n",
            "min         0.0   1.000000   2.000000    6.750000\n",
            "25%         0.0   3.000000  16.750000    8.850000\n",
            "50%         0.0   3.000000  24.500000   15.245800\n",
            "75%         0.0   3.000000  33.250000   27.900000\n",
            "max         0.0   3.000000  57.000000  151.550000\n"
          ]
        }
      ]
    },
    {
      "cell_type": "markdown",
      "source": [
        "### Replacing the age with mean age and making a DNN for prediction\n",
        "## Convention \n",
        "female = [0, 1]  \n",
        "male = [1, 0 ] \n",
        "\n",
        "S, C, Q -> 1,2,3  "
      ],
      "metadata": {
        "id": "8NFZt_1RUd9R"
      }
    },
    {
      "cell_type": "code",
      "source": [
        "no_nadata= refined_data.dropna(subset=['Age','Fare'])\n",
        "no_nadata[\"0\"]=[0 if i==\"male\" else 1 for i in no_nadata[\"Sex\"].values]\n",
        "no_nadata[\"1\"]=[1 if i==\"male\" else 0 for i in no_nadata[\"Sex\"].values]\n",
        "no_nadata[\"2\"]=[1 if i==\"S\" else 0 for i in no_nadata[\"Embarked\"].values]\n",
        "no_nadata[\"3\"]=[1 if i==\"C\" else 0 for i in no_nadata[\"Embarked\"].values]\n",
        "no_nadata[\"4\"]=[1 if i==\"Q\" else 0 for i in no_nadata[\"Embarked\"].values]\n",
        "\n",
        "refined_test = refined_test.dropna(subset=['Age', 'Fare'])\n",
        "\n",
        "refined_test[\"0\"] = [0 if i==\"male\" else 1 for i in refined_test[\"Sex\"].values]\n",
        "refined_test[\"1\"] = [1 if i==\"male\" else 0 for i in refined_test[\"Sex\"].values]\n",
        "refined_test[\"2\"]=[1 if i==\"S\" else 0 for i in refined_test[\"Embarked\"].values]\n",
        "refined_test[\"3\"]=[1 if i==\"C\" else 0 for i in refined_test[\"Embarked\"].values]\n",
        "refined_test[\"4\"]=[1 if i==\"Q\" else 0 for i in refined_test[\"Embarked\"].values]\n",
        "\n",
        "## [S,C, ]\n",
        "# print(no_nadata.head(5))\n",
        "# print(no_nadata.dtypes)\n",
        "\n",
        "print(refined_test.head(5))"
      ],
      "metadata": {
        "colab": {
          "base_uri": "https://localhost:8080/"
        },
        "id": "eZJpGCSroEXl",
        "outputId": "984f74a2-0bda-4ce1-e502-fe72e8e14839"
      },
      "execution_count": 69,
      "outputs": [
        {
          "output_type": "stream",
          "name": "stdout",
          "text": [
            "   Pclass     Sex   Age     Fare Embarked  0  1  2  3  4\n",
            "0     3.0    male  34.5   7.8292        Q  0  1  0  0  1\n",
            "1     3.0  female  47.0   7.0000        S  1  0  1  0  0\n",
            "2     2.0    male  62.0   9.6875        Q  0  1  0  0  1\n",
            "3     3.0    male  27.0   8.6625        S  0  1  1  0  0\n",
            "4     3.0  female  22.0  12.2875        S  1  0  1  0  0\n"
          ]
        },
        {
          "output_type": "stream",
          "name": "stderr",
          "text": [
            "<ipython-input-69-dca5d319a11d>:2: SettingWithCopyWarning: \n",
            "A value is trying to be set on a copy of a slice from a DataFrame.\n",
            "Try using .loc[row_indexer,col_indexer] = value instead\n",
            "\n",
            "See the caveats in the documentation: https://pandas.pydata.org/pandas-docs/stable/user_guide/indexing.html#returning-a-view-versus-a-copy\n",
            "  no_nadata[\"0\"]=[0 if i==\"male\" else 1 for i in no_nadata[\"Sex\"].values]\n",
            "<ipython-input-69-dca5d319a11d>:3: SettingWithCopyWarning: \n",
            "A value is trying to be set on a copy of a slice from a DataFrame.\n",
            "Try using .loc[row_indexer,col_indexer] = value instead\n",
            "\n",
            "See the caveats in the documentation: https://pandas.pydata.org/pandas-docs/stable/user_guide/indexing.html#returning-a-view-versus-a-copy\n",
            "  no_nadata[\"1\"]=[1 if i==\"male\" else 0 for i in no_nadata[\"Sex\"].values]\n",
            "<ipython-input-69-dca5d319a11d>:4: SettingWithCopyWarning: \n",
            "A value is trying to be set on a copy of a slice from a DataFrame.\n",
            "Try using .loc[row_indexer,col_indexer] = value instead\n",
            "\n",
            "See the caveats in the documentation: https://pandas.pydata.org/pandas-docs/stable/user_guide/indexing.html#returning-a-view-versus-a-copy\n",
            "  no_nadata[\"2\"]=[1 if i==\"S\" else 0 for i in no_nadata[\"Embarked\"].values]\n",
            "<ipython-input-69-dca5d319a11d>:5: SettingWithCopyWarning: \n",
            "A value is trying to be set on a copy of a slice from a DataFrame.\n",
            "Try using .loc[row_indexer,col_indexer] = value instead\n",
            "\n",
            "See the caveats in the documentation: https://pandas.pydata.org/pandas-docs/stable/user_guide/indexing.html#returning-a-view-versus-a-copy\n",
            "  no_nadata[\"3\"]=[1 if i==\"C\" else 0 for i in no_nadata[\"Embarked\"].values]\n",
            "<ipython-input-69-dca5d319a11d>:6: SettingWithCopyWarning: \n",
            "A value is trying to be set on a copy of a slice from a DataFrame.\n",
            "Try using .loc[row_indexer,col_indexer] = value instead\n",
            "\n",
            "See the caveats in the documentation: https://pandas.pydata.org/pandas-docs/stable/user_guide/indexing.html#returning-a-view-versus-a-copy\n",
            "  no_nadata[\"4\"]=[1 if i==\"Q\" else 0 for i in no_nadata[\"Embarked\"].values]\n",
            "<ipython-input-69-dca5d319a11d>:10: SettingWithCopyWarning: \n",
            "A value is trying to be set on a copy of a slice from a DataFrame.\n",
            "Try using .loc[row_indexer,col_indexer] = value instead\n",
            "\n",
            "See the caveats in the documentation: https://pandas.pydata.org/pandas-docs/stable/user_guide/indexing.html#returning-a-view-versus-a-copy\n",
            "  refined_test[\"0\"] = [0 if i==\"male\" else 1 for i in refined_test[\"Sex\"].values]\n",
            "<ipython-input-69-dca5d319a11d>:11: SettingWithCopyWarning: \n",
            "A value is trying to be set on a copy of a slice from a DataFrame.\n",
            "Try using .loc[row_indexer,col_indexer] = value instead\n",
            "\n",
            "See the caveats in the documentation: https://pandas.pydata.org/pandas-docs/stable/user_guide/indexing.html#returning-a-view-versus-a-copy\n",
            "  refined_test[\"1\"] = [1 if i==\"male\" else 0 for i in refined_test[\"Sex\"].values]\n",
            "<ipython-input-69-dca5d319a11d>:12: SettingWithCopyWarning: \n",
            "A value is trying to be set on a copy of a slice from a DataFrame.\n",
            "Try using .loc[row_indexer,col_indexer] = value instead\n",
            "\n",
            "See the caveats in the documentation: https://pandas.pydata.org/pandas-docs/stable/user_guide/indexing.html#returning-a-view-versus-a-copy\n",
            "  refined_test[\"2\"]=[1 if i==\"S\" else 0 for i in refined_test[\"Embarked\"].values]\n",
            "<ipython-input-69-dca5d319a11d>:13: SettingWithCopyWarning: \n",
            "A value is trying to be set on a copy of a slice from a DataFrame.\n",
            "Try using .loc[row_indexer,col_indexer] = value instead\n",
            "\n",
            "See the caveats in the documentation: https://pandas.pydata.org/pandas-docs/stable/user_guide/indexing.html#returning-a-view-versus-a-copy\n",
            "  refined_test[\"3\"]=[1 if i==\"C\" else 0 for i in refined_test[\"Embarked\"].values]\n",
            "<ipython-input-69-dca5d319a11d>:14: SettingWithCopyWarning: \n",
            "A value is trying to be set on a copy of a slice from a DataFrame.\n",
            "Try using .loc[row_indexer,col_indexer] = value instead\n",
            "\n",
            "See the caveats in the documentation: https://pandas.pydata.org/pandas-docs/stable/user_guide/indexing.html#returning-a-view-versus-a-copy\n",
            "  refined_test[\"4\"]=[1 if i==\"Q\" else 0 for i in refined_test[\"Embarked\"].values]\n"
          ]
        }
      ]
    },
    {
      "cell_type": "code",
      "source": [],
      "metadata": {
        "id": "47o9AbLMY1Ra"
      },
      "execution_count": null,
      "outputs": []
    },
    {
      "cell_type": "code",
      "source": [
        "import tensorflow as tf\n",
        "from tensorflow import keras\n",
        "from tensorflow.keras import layers\n",
        "from tensorflow.keras import activations"
      ],
      "metadata": {
        "id": "ydHtEyElVGeo"
      },
      "execution_count": 9,
      "outputs": []
    },
    {
      "cell_type": "code",
      "source": [
        "model = keras.Sequential() \n",
        "\n",
        "## first layer\n",
        "model.add(layers.Dense(128, input_shape=(8,)))\n",
        "model.add(layers.BatchNormalization())\n",
        "model.add(layers.Activation('relu'))\n",
        "model.add(layers.Dropout(0.3))\n",
        "\n",
        "model.add(layers.Dense(64))\n",
        "model.add(layers.BatchNormalization())\n",
        "model.add(layers.Activation('relu'))\n",
        "model.add(layers.Dropout(0.3))\n",
        "\n",
        "model.add(layers.Dense(32))\n",
        "model.add(layers.BatchNormalization())\n",
        "model.add(layers.Activation('relu'))\n",
        "model.add(layers.Dropout(0.3))\n",
        "\n",
        "model.add(layers.Dense(1)) ## 2 since either dead or alive better to give a probability\n",
        "model.add(layers.Activation('sigmoid'))"
      ],
      "metadata": {
        "id": "7dt5SpvlVKoA"
      },
      "execution_count": 75,
      "outputs": []
    },
    {
      "cell_type": "code",
      "source": [
        "import numpy as np\n",
        "import torch"
      ],
      "metadata": {
        "id": "aBJzqAlUSqts"
      },
      "execution_count": 40,
      "outputs": []
    },
    {
      "cell_type": "code",
      "source": [
        "print(no_nadata.dtypes)"
      ],
      "metadata": {
        "colab": {
          "base_uri": "https://localhost:8080/"
        },
        "id": "3m4nU7fQSqz2",
        "outputId": "8e24f7c6-6be6-4873-f71e-79e2ae78384d"
      },
      "execution_count": null,
      "outputs": [
        {
          "output_type": "stream",
          "name": "stdout",
          "text": [
            "Survived    float32\n",
            "Pclass      float32\n",
            "Sex          object\n",
            "Age         float32\n",
            "Fare        float32\n",
            "Embarked     object\n",
            "0           float32\n",
            "1           float32\n",
            "2           float32\n",
            "3           float32\n",
            "4           float32\n",
            "dtype: object\n"
          ]
        }
      ]
    },
    {
      "cell_type": "code",
      "source": [
        "no_nadata[\"Survived\"] = np.asarray(no_nadata[\"Survived\"]).astype(np.float32)\n",
        "no_nadata[\"Pclass\"] = np.asarray(no_nadata[\"Pclass\"]).astype(np.float32)\n",
        "no_nadata[\"Age\"] = np.asarray(no_nadata[\"Age\"]).astype(np.float32)\n",
        "no_nadata[\"Fare\"] = np.asarray(no_nadata[\"Fare\"]).astype(np.float32)\n",
        "no_nadata[\"0\"] = np.asarray(no_nadata[\"0\"]).astype(np.float32)\n",
        "no_nadata[\"1\"] = np.asarray(no_nadata[\"1\"]).astype(np.float32)\n",
        "no_nadata[\"2\"] = np.asarray(no_nadata[\"2\"]).astype(np.float32)\n",
        "no_nadata[\"3\"] = np.asarray(no_nadata[\"3\"]).astype(np.float32)\n",
        "no_nadata[\"4\"] = np.asarray(no_nadata[\"4\"]).astype(np.float32)\n",
        "\n",
        "refined_test[\"Pclass\"] = np.asarray(refined_test[\"Pclass\"]).astype(np.float32)\n",
        "refined_test[\"Age\"] = np.asarray(refined_test[\"Age\"]).astype(np.float32)\n",
        "refined_test[\"Fare\"] = np.asarray(refined_test[\"Fare\"]).astype(np.float32)\n",
        "refined_test[\"0\"] = np.asarray(refined_test[\"0\"]).astype(np.float32)\n",
        "refined_test[\"1\"] = np.asarray(refined_test[\"1\"]).astype(np.float32)\n",
        "refined_test[\"2\"] = np.asarray(refined_test[\"2\"]).astype(np.float32)\n",
        "refined_test[\"3\"] = np.asarray(refined_test[\"3\"]).astype(np.float32)\n",
        "refined_test[\"4\"] = np.asarray(refined_test[\"4\"]).astype(np.float32)\n"
      ],
      "metadata": {
        "colab": {
          "base_uri": "https://localhost:8080/"
        },
        "id": "TpyDhp4TScmu",
        "outputId": "f2db6600-854d-40be-864f-918eeffda620"
      },
      "execution_count": 70,
      "outputs": [
        {
          "output_type": "stream",
          "name": "stderr",
          "text": [
            "<ipython-input-70-113cbfdffa66>:1: SettingWithCopyWarning: \n",
            "A value is trying to be set on a copy of a slice from a DataFrame.\n",
            "Try using .loc[row_indexer,col_indexer] = value instead\n",
            "\n",
            "See the caveats in the documentation: https://pandas.pydata.org/pandas-docs/stable/user_guide/indexing.html#returning-a-view-versus-a-copy\n",
            "  no_nadata[\"Survived\"] = np.asarray(no_nadata[\"Survived\"]).astype(np.float32)\n",
            "<ipython-input-70-113cbfdffa66>:2: SettingWithCopyWarning: \n",
            "A value is trying to be set on a copy of a slice from a DataFrame.\n",
            "Try using .loc[row_indexer,col_indexer] = value instead\n",
            "\n",
            "See the caveats in the documentation: https://pandas.pydata.org/pandas-docs/stable/user_guide/indexing.html#returning-a-view-versus-a-copy\n",
            "  no_nadata[\"Pclass\"] = np.asarray(no_nadata[\"Pclass\"]).astype(np.float32)\n",
            "<ipython-input-70-113cbfdffa66>:3: SettingWithCopyWarning: \n",
            "A value is trying to be set on a copy of a slice from a DataFrame.\n",
            "Try using .loc[row_indexer,col_indexer] = value instead\n",
            "\n",
            "See the caveats in the documentation: https://pandas.pydata.org/pandas-docs/stable/user_guide/indexing.html#returning-a-view-versus-a-copy\n",
            "  no_nadata[\"Age\"] = np.asarray(no_nadata[\"Age\"]).astype(np.float32)\n",
            "<ipython-input-70-113cbfdffa66>:4: SettingWithCopyWarning: \n",
            "A value is trying to be set on a copy of a slice from a DataFrame.\n",
            "Try using .loc[row_indexer,col_indexer] = value instead\n",
            "\n",
            "See the caveats in the documentation: https://pandas.pydata.org/pandas-docs/stable/user_guide/indexing.html#returning-a-view-versus-a-copy\n",
            "  no_nadata[\"Fare\"] = np.asarray(no_nadata[\"Fare\"]).astype(np.float32)\n",
            "<ipython-input-70-113cbfdffa66>:5: SettingWithCopyWarning: \n",
            "A value is trying to be set on a copy of a slice from a DataFrame.\n",
            "Try using .loc[row_indexer,col_indexer] = value instead\n",
            "\n",
            "See the caveats in the documentation: https://pandas.pydata.org/pandas-docs/stable/user_guide/indexing.html#returning-a-view-versus-a-copy\n",
            "  no_nadata[\"0\"] = np.asarray(no_nadata[\"0\"]).astype(np.float32)\n",
            "<ipython-input-70-113cbfdffa66>:6: SettingWithCopyWarning: \n",
            "A value is trying to be set on a copy of a slice from a DataFrame.\n",
            "Try using .loc[row_indexer,col_indexer] = value instead\n",
            "\n",
            "See the caveats in the documentation: https://pandas.pydata.org/pandas-docs/stable/user_guide/indexing.html#returning-a-view-versus-a-copy\n",
            "  no_nadata[\"1\"] = np.asarray(no_nadata[\"1\"]).astype(np.float32)\n",
            "<ipython-input-70-113cbfdffa66>:7: SettingWithCopyWarning: \n",
            "A value is trying to be set on a copy of a slice from a DataFrame.\n",
            "Try using .loc[row_indexer,col_indexer] = value instead\n",
            "\n",
            "See the caveats in the documentation: https://pandas.pydata.org/pandas-docs/stable/user_guide/indexing.html#returning-a-view-versus-a-copy\n",
            "  no_nadata[\"2\"] = np.asarray(no_nadata[\"2\"]).astype(np.float32)\n",
            "<ipython-input-70-113cbfdffa66>:8: SettingWithCopyWarning: \n",
            "A value is trying to be set on a copy of a slice from a DataFrame.\n",
            "Try using .loc[row_indexer,col_indexer] = value instead\n",
            "\n",
            "See the caveats in the documentation: https://pandas.pydata.org/pandas-docs/stable/user_guide/indexing.html#returning-a-view-versus-a-copy\n",
            "  no_nadata[\"3\"] = np.asarray(no_nadata[\"3\"]).astype(np.float32)\n",
            "<ipython-input-70-113cbfdffa66>:9: SettingWithCopyWarning: \n",
            "A value is trying to be set on a copy of a slice from a DataFrame.\n",
            "Try using .loc[row_indexer,col_indexer] = value instead\n",
            "\n",
            "See the caveats in the documentation: https://pandas.pydata.org/pandas-docs/stable/user_guide/indexing.html#returning-a-view-versus-a-copy\n",
            "  no_nadata[\"4\"] = np.asarray(no_nadata[\"4\"]).astype(np.float32)\n"
          ]
        }
      ]
    },
    {
      "cell_type": "code",
      "source": [
        "age_tensor = tf.convert_to_tensor(no_nadata[\"Age\"])\n",
        "survived_tensor = tf.convert_to_tensor(no_nadata[\"Survived\"])\n",
        "pclass_tensor = tf.convert_to_tensor(no_nadata[\"Pclass\"])\n",
        "fare_tensor = tf.convert_to_tensor(no_nadata[\"Fare\"])\n",
        "sex_tensor_0 = tf.convert_to_tensor(no_nadata[\"0\"])\n",
        "sex_tensor_1 = tf.convert_to_tensor(no_nadata[\"1\"])\n",
        "embark_tensor_0 = tf.convert_to_tensor(no_nadata[\"2\"])\n",
        "embark_tensor_1 = tf.convert_to_tensor(no_nadata[\"3\"])\n",
        "embark_tensor_2 = tf.convert_to_tensor(no_nadata[\"4\"])\n",
        "\n",
        "age_tensor_test = tf.convert_to_tensor(refined_test[\"Age\"])\n",
        "pclass_tensor_test = tf.convert_to_tensor(refined_test[\"Pclass\"])\n",
        "fare_tensor_test = tf.convert_to_tensor(refined_test[\"Fare\"])\n",
        "sex_tensor_0_test = tf.convert_to_tensor(refined_test[\"0\"])\n",
        "sex_tensor_1_test = tf.convert_to_tensor(refined_test[\"1\"])\n",
        "embark_tensor_0_test = tf.convert_to_tensor(refined_test[\"2\"])\n",
        "embark_tensor_1_test = tf.convert_to_tensor(refined_test[\"3\"])\n",
        "embark_tensor_2_test = tf.convert_to_tensor(refined_test[\"4\"])\n",
        "\n",
        "\n",
        "final_age_tensor = tf.concat([age_tensor, age_tensor_test], 0)\n",
        "normalized_age_tensor = tf.linalg.normalize(final_age_tensor)[0]\n",
        "\n",
        "\n",
        "final_fare_tensor = tf.concat([fare_tensor, fare_tensor_test], 0)\n",
        "normalized_fare_tensor = tf.linalg.normalize(final_fare_tensor)[0]\n",
        "\n",
        "combined_data = tf.convert_to_tensor([normalized_age_tensor[:714],pclass_tensor,normalized_fare_tensor[:714], sex_tensor_0, sex_tensor_1, embark_tensor_0, \n",
        "                                      embark_tensor_1, embark_tensor_2])\n",
        "combined_outcomes = tf.convert_to_tensor(survived_tensor)\n",
        "\n",
        "\n",
        "x_train = tf.transpose(combined_data[:,:600])\n",
        "y_train = combined_outcomes[:600]\n",
        "# y_train = tf.transpose(y_train[None, :])\n",
        "y_train = tf.cast(y_train, dtype=tf.int64)\n",
        "x_val = tf.transpose(combined_data[:,600:]) \n",
        "y_val = combined_outcomes[600:]\n",
        "y_val = tf.cast(y_val, dtype=tf.int64)\n",
        "# y_val = tf.transpose(y_val[None, :])\n",
        "\n",
        "prediction_data = tf.convert_to_tensor([normalized_age_tensor[714:]\n",
        "                                      ,pclass_tensor_test,normalized_fare_tensor[714:],sex_tensor_0_test,sex_tensor_1_test,embark_tensor_0_test,embark_tensor_1_test, \n",
        "                                      embark_tensor_2_test])\n",
        "prediction_data = tf.transpose(prediction_data)\n",
        "\n",
        "print(x_train.shape)\n",
        "print(y_val[:5])"
      ],
      "metadata": {
        "colab": {
          "base_uri": "https://localhost:8080/"
        },
        "id": "V5JXAaO4O2fV",
        "outputId": "d5f3382e-58ef-4591-a61a-86e3977dab0f"
      },
      "execution_count": 85,
      "outputs": [
        {
          "output_type": "stream",
          "name": "stdout",
          "text": [
            "(600, 8)\n",
            "tf.Tensor([0 1 1 0 0], shape=(5,), dtype=int64)\n"
          ]
        }
      ]
    },
    {
      "cell_type": "code",
      "source": [
        "model.compile(\n",
        "    optimizer=keras.optimizers.Adam(learning_rate=0.002),  # Optimizer\n",
        "    # Loss function to minimize\n",
        "    loss=tf.keras.losses.BinaryCrossentropy(from_logits=False),\n",
        "    # List of metrics to monitor\n",
        "    metrics=['accuracy'],\n",
        ")\n",
        "\n",
        "history = model.fit(x_train,\n",
        "    y_train,\n",
        "    batch_size=15,\n",
        "    epochs=20, \n",
        "    validation_data=(x_val, y_val)\n",
        "    )\n"
      ],
      "metadata": {
        "id": "ZzjHHrvQPt3O",
        "colab": {
          "base_uri": "https://localhost:8080/"
        },
        "outputId": "73fa84fa-7c50-47dc-c534-d9e457c2f148"
      },
      "execution_count": 82,
      "outputs": [
        {
          "output_type": "stream",
          "name": "stdout",
          "text": [
            "Epoch 1/20\n",
            "40/40 [==============================] - 4s 10ms/step - loss: 0.4520 - accuracy: 0.7983 - val_loss: 0.4121 - val_accuracy: 0.7982\n",
            "Epoch 2/20\n",
            "40/40 [==============================] - 0s 4ms/step - loss: 0.4620 - accuracy: 0.7983 - val_loss: 0.4189 - val_accuracy: 0.7982\n",
            "Epoch 3/20\n",
            "40/40 [==============================] - 0s 4ms/step - loss: 0.4524 - accuracy: 0.7933 - val_loss: 0.4010 - val_accuracy: 0.8246\n",
            "Epoch 4/20\n",
            "40/40 [==============================] - 0s 5ms/step - loss: 0.4568 - accuracy: 0.8083 - val_loss: 0.4178 - val_accuracy: 0.8333\n",
            "Epoch 5/20\n",
            "40/40 [==============================] - 0s 4ms/step - loss: 0.4638 - accuracy: 0.7800 - val_loss: 0.4093 - val_accuracy: 0.8246\n",
            "Epoch 6/20\n",
            "40/40 [==============================] - 0s 5ms/step - loss: 0.4490 - accuracy: 0.7917 - val_loss: 0.4112 - val_accuracy: 0.8246\n",
            "Epoch 7/20\n",
            "40/40 [==============================] - 0s 4ms/step - loss: 0.4654 - accuracy: 0.8100 - val_loss: 0.4158 - val_accuracy: 0.8246\n",
            "Epoch 8/20\n",
            "40/40 [==============================] - 0s 4ms/step - loss: 0.4622 - accuracy: 0.7950 - val_loss: 0.4116 - val_accuracy: 0.8421\n",
            "Epoch 9/20\n",
            "40/40 [==============================] - 0s 4ms/step - loss: 0.4408 - accuracy: 0.8033 - val_loss: 0.4412 - val_accuracy: 0.7982\n",
            "Epoch 10/20\n",
            "40/40 [==============================] - 0s 4ms/step - loss: 0.4660 - accuracy: 0.7883 - val_loss: 0.4363 - val_accuracy: 0.8246\n",
            "Epoch 11/20\n",
            "40/40 [==============================] - 0s 4ms/step - loss: 0.4813 - accuracy: 0.7817 - val_loss: 0.4146 - val_accuracy: 0.8246\n",
            "Epoch 12/20\n",
            "40/40 [==============================] - 0s 6ms/step - loss: 0.4501 - accuracy: 0.7983 - val_loss: 0.4059 - val_accuracy: 0.8333\n",
            "Epoch 13/20\n",
            "40/40 [==============================] - 0s 7ms/step - loss: 0.4439 - accuracy: 0.7933 - val_loss: 0.4084 - val_accuracy: 0.8070\n",
            "Epoch 14/20\n",
            "40/40 [==============================] - 0s 6ms/step - loss: 0.4558 - accuracy: 0.8033 - val_loss: 0.4094 - val_accuracy: 0.7982\n",
            "Epoch 15/20\n",
            "40/40 [==============================] - 0s 6ms/step - loss: 0.4746 - accuracy: 0.8000 - val_loss: 0.4097 - val_accuracy: 0.8333\n",
            "Epoch 16/20\n",
            "40/40 [==============================] - 0s 6ms/step - loss: 0.4587 - accuracy: 0.7933 - val_loss: 0.4106 - val_accuracy: 0.8421\n",
            "Epoch 17/20\n",
            "40/40 [==============================] - 0s 6ms/step - loss: 0.4473 - accuracy: 0.8100 - val_loss: 0.4192 - val_accuracy: 0.8246\n",
            "Epoch 18/20\n",
            "40/40 [==============================] - 0s 6ms/step - loss: 0.4521 - accuracy: 0.7933 - val_loss: 0.4055 - val_accuracy: 0.8333\n",
            "Epoch 19/20\n",
            "40/40 [==============================] - 0s 8ms/step - loss: 0.4485 - accuracy: 0.7933 - val_loss: 0.4045 - val_accuracy: 0.8246\n",
            "Epoch 20/20\n",
            "40/40 [==============================] - 0s 8ms/step - loss: 0.4656 - accuracy: 0.7917 - val_loss: 0.4102 - val_accuracy: 0.8158\n"
          ]
        }
      ]
    },
    {
      "cell_type": "code",
      "source": [
        "print(prediction_data.shape)\n",
        "model.predict(prediction_data)"
      ],
      "metadata": {
        "id": "k9U6IJ3a_1X2",
        "colab": {
          "base_uri": "https://localhost:8080/"
        },
        "outputId": "3545dd3f-33e4-4522-eee7-350f406b943c"
      },
      "execution_count": 87,
      "outputs": [
        {
          "output_type": "stream",
          "name": "stdout",
          "text": [
            "(331, 8)\n",
            "11/11 [==============================] - 0s 2ms/step\n"
          ]
        },
        {
          "output_type": "execute_result",
          "data": {
            "text/plain": [
              "array([[0.06402084],\n",
              "       [0.35837883],\n",
              "       [0.04892992],\n",
              "       [0.13285524],\n",
              "       [0.3832293 ],\n",
              "       [0.15744437],\n",
              "       [0.4252473 ],\n",
              "       [0.16767076],\n",
              "       [0.44670925],\n",
              "       [0.1430059 ],\n",
              "       [0.39400947],\n",
              "       [0.9716254 ],\n",
              "       [0.08407826],\n",
              "       [0.9643603 ],\n",
              "       [0.9293489 ],\n",
              "       [0.06458341],\n",
              "       [0.20738307],\n",
              "       [0.37674442],\n",
              "       [0.42911544],\n",
              "       [0.37164488],\n",
              "       [0.17380206],\n",
              "       [0.44953793],\n",
              "       [0.967923  ],\n",
              "       [0.10208766],\n",
              "       [0.97498935],\n",
              "       [0.20488316],\n",
              "       [0.40363693],\n",
              "       [0.09821513],\n",
              "       [0.180208  ],\n",
              "       [0.37060872],\n",
              "       [0.43175355],\n",
              "       [0.21160072],\n",
              "       [0.3860519 ],\n",
              "       [0.13602474],\n",
              "       [0.18294056],\n",
              "       [0.11140997],\n",
              "       [0.93658274],\n",
              "       [0.9655971 ],\n",
              "       [0.1359533 ],\n",
              "       [0.40468335],\n",
              "       [0.9675616 ],\n",
              "       [0.36828285],\n",
              "       [0.47025084],\n",
              "       [0.14512268],\n",
              "       [0.94294316],\n",
              "       [0.9593263 ],\n",
              "       [0.08655878],\n",
              "       [0.12025542],\n",
              "       [0.13594083],\n",
              "       [0.9696096 ],\n",
              "       [0.14889102],\n",
              "       [0.13957407],\n",
              "       [0.1471042 ],\n",
              "       [0.4442686 ],\n",
              "       [0.49214014],\n",
              "       [0.4536912 ],\n",
              "       [0.38970774],\n",
              "       [0.428852  ],\n",
              "       [0.9507576 ],\n",
              "       [0.43901888],\n",
              "       [0.14223863],\n",
              "       [0.37508097],\n",
              "       [0.431855  ],\n",
              "       [0.9706811 ],\n",
              "       [0.4337821 ],\n",
              "       [0.96294206],\n",
              "       [0.14902093],\n",
              "       [0.43901888],\n",
              "       [0.23155269],\n",
              "       [0.33317655],\n",
              "       [0.38570526],\n",
              "       [0.4321984 ],\n",
              "       [0.3926691 ],\n",
              "       [0.5647387 ],\n",
              "       [0.3828783 ],\n",
              "       [0.97174567],\n",
              "       [0.43741354],\n",
              "       [0.13594745],\n",
              "       [0.9535049 ],\n",
              "       [0.1296481 ],\n",
              "       [0.3884152 ],\n",
              "       [0.12334378],\n",
              "       [0.9715772 ],\n",
              "       [0.16251068],\n",
              "       [0.13441195],\n",
              "       [0.44902572],\n",
              "       [0.13203014],\n",
              "       [0.07531362],\n",
              "       [0.23547754],\n",
              "       [0.12367732],\n",
              "       [0.9733596 ],\n",
              "       [0.45287   ],\n",
              "       [0.9518635 ],\n",
              "       [0.2137766 ],\n",
              "       [0.43101135],\n",
              "       [0.4248833 ],\n",
              "       [0.9351021 ],\n",
              "       [0.9506387 ],\n",
              "       [0.9731991 ],\n",
              "       [0.13118581],\n",
              "       [0.3924205 ],\n",
              "       [0.14063992],\n",
              "       [0.10859337],\n",
              "       [0.13750842],\n",
              "       [0.12490897],\n",
              "       [0.3767129 ],\n",
              "       [0.1085865 ],\n",
              "       [0.13749945],\n",
              "       [0.19823039],\n",
              "       [0.17135486],\n",
              "       [0.38227704],\n",
              "       [0.11501553],\n",
              "       [0.40140826],\n",
              "       [0.96491206],\n",
              "       [0.3864936 ],\n",
              "       [0.156817  ],\n",
              "       [0.40215695],\n",
              "       [0.12706108],\n",
              "       [0.14065176],\n",
              "       [0.14667627],\n",
              "       [0.97448385],\n",
              "       [0.36863858],\n",
              "       [0.16034181],\n",
              "       [0.13748553],\n",
              "       [0.9618668 ],\n",
              "       [0.38231605],\n",
              "       [0.40215695],\n",
              "       [0.37702903],\n",
              "       [0.2298818 ],\n",
              "       [0.9397759 ],\n",
              "       [0.11033738],\n",
              "       [0.3762546 ],\n",
              "       [0.39794868],\n",
              "       [0.1483984 ],\n",
              "       [0.38395333],\n",
              "       [0.1974349 ],\n",
              "       [0.13934325],\n",
              "       [0.11406812],\n",
              "       [0.9442676 ],\n",
              "       [0.9406078 ],\n",
              "       [0.3747127 ],\n",
              "       [0.9256417 ],\n",
              "       [0.966519  ],\n",
              "       [0.14902093],\n",
              "       [0.4239018 ],\n",
              "       [0.9740315 ],\n",
              "       [0.97103155],\n",
              "       [0.1121243 ],\n",
              "       [0.9425011 ],\n",
              "       [0.1488988 ],\n",
              "       [0.11224475],\n",
              "       [0.1297345 ],\n",
              "       [0.16533695],\n",
              "       [0.04939149],\n",
              "       [0.4075975 ],\n",
              "       [0.12333281],\n",
              "       [0.50067073],\n",
              "       [0.39275193],\n",
              "       [0.19427426],\n",
              "       [0.22722287],\n",
              "       [0.41554737],\n",
              "       [0.95229197],\n",
              "       [0.17899013],\n",
              "       [0.41552562],\n",
              "       [0.18621258],\n",
              "       [0.9739677 ],\n",
              "       [0.135952  ],\n",
              "       [0.12572987],\n",
              "       [0.22547346],\n",
              "       [0.8978262 ],\n",
              "       [0.36721298],\n",
              "       [0.401328  ],\n",
              "       [0.35833392],\n",
              "       [0.9684868 ],\n",
              "       [0.9260433 ],\n",
              "       [0.14224589],\n",
              "       [0.94327927],\n",
              "       [0.14223391],\n",
              "       [0.96961594],\n",
              "       [0.1390609 ],\n",
              "       [0.11249858],\n",
              "       [0.12404254],\n",
              "       [0.26518932],\n",
              "       [0.9742747 ],\n",
              "       [0.1421727 ],\n",
              "       [0.42083728],\n",
              "       [0.1438457 ],\n",
              "       [0.33823594],\n",
              "       [0.20906217],\n",
              "       [0.9462895 ],\n",
              "       [0.9700134 ],\n",
              "       [0.96917766],\n",
              "       [0.9165336 ],\n",
              "       [0.41129953],\n",
              "       [0.40253267],\n",
              "       [0.9417168 ],\n",
              "       [0.10813165],\n",
              "       [0.9351021 ],\n",
              "       [0.95676017],\n",
              "       [0.14384909],\n",
              "       [0.4397271 ],\n",
              "       [0.13756678],\n",
              "       [0.12420582],\n",
              "       [0.13122992],\n",
              "       [0.94546336],\n",
              "       [0.14223292],\n",
              "       [0.11850213],\n",
              "       [0.14223666],\n",
              "       [0.93566495],\n",
              "       [0.4322789 ],\n",
              "       [0.13963458],\n",
              "       [0.14892952],\n",
              "       [0.404673  ],\n",
              "       [0.9730987 ],\n",
              "       [0.9424411 ],\n",
              "       [0.16015974],\n",
              "       [0.11178757],\n",
              "       [0.14757848],\n",
              "       [0.2029064 ],\n",
              "       [0.38215503],\n",
              "       [0.22288771],\n",
              "       [0.45649293],\n",
              "       [0.42794243],\n",
              "       [0.11870567],\n",
              "       [0.46519703],\n",
              "       [0.42555836],\n",
              "       [0.37097278],\n",
              "       [0.11882753],\n",
              "       [0.13441737],\n",
              "       [0.9477923 ],\n",
              "       [0.43530044],\n",
              "       [0.12964426],\n",
              "       [0.12489341],\n",
              "       [0.10685262],\n",
              "       [0.13753645],\n",
              "       [0.960279  ],\n",
              "       [0.42330313],\n",
              "       [0.22444196],\n",
              "       [0.365839  ],\n",
              "       [0.35969692],\n",
              "       [0.1471484 ],\n",
              "       [0.20571396],\n",
              "       [0.4123729 ],\n",
              "       [0.96810764],\n",
              "       [0.45586738],\n",
              "       [0.37913418],\n",
              "       [0.23120888],\n",
              "       [0.1328102 ],\n",
              "       [0.19546995],\n",
              "       [0.13441195],\n",
              "       [0.20063204],\n",
              "       [0.17135486],\n",
              "       [0.42396954],\n",
              "       [0.95906   ],\n",
              "       [0.13902645],\n",
              "       [0.9468626 ],\n",
              "       [0.4048801 ],\n",
              "       [0.15156108],\n",
              "       [0.21095686],\n",
              "       [0.9109465 ],\n",
              "       [0.4190972 ],\n",
              "       [0.44303042],\n",
              "       [0.13281251],\n",
              "       [0.43771973],\n",
              "       [0.13965496],\n",
              "       [0.18160792],\n",
              "       [0.17316765],\n",
              "       [0.24244316],\n",
              "       [0.12488234],\n",
              "       [0.9551193 ],\n",
              "       [0.39725673],\n",
              "       [0.17135486],\n",
              "       [0.4316396 ],\n",
              "       [0.18534611],\n",
              "       [0.9342063 ],\n",
              "       [0.9710722 ],\n",
              "       [0.17899013],\n",
              "       [0.21564876],\n",
              "       [0.09912599],\n",
              "       [0.4316559 ],\n",
              "       [0.38307244],\n",
              "       [0.96135366],\n",
              "       [0.37353852],\n",
              "       [0.1569287 ],\n",
              "       [0.9285578 ],\n",
              "       [0.9342063 ],\n",
              "       [0.13285524],\n",
              "       [0.9747088 ],\n",
              "       [0.3780383 ],\n",
              "       [0.97110724],\n",
              "       [0.14146209],\n",
              "       [0.21148145],\n",
              "       [0.9725454 ],\n",
              "       [0.3880296 ],\n",
              "       [0.10551195],\n",
              "       [0.9617758 ],\n",
              "       [0.96834534],\n",
              "       [0.3840187 ],\n",
              "       [0.21148145],\n",
              "       [0.3680135 ],\n",
              "       [0.18912955],\n",
              "       [0.07100192],\n",
              "       [0.388078  ],\n",
              "       [0.93196815],\n",
              "       [0.1374958 ],\n",
              "       [0.0902947 ],\n",
              "       [0.07531159],\n",
              "       [0.18535924],\n",
              "       [0.4707988 ],\n",
              "       [0.9635458 ],\n",
              "       [0.16045727],\n",
              "       [0.10186788],\n",
              "       [0.13041958],\n",
              "       [0.9737677 ],\n",
              "       [0.07271959],\n",
              "       [0.9702622 ],\n",
              "       [0.14063893],\n",
              "       [0.06677849],\n",
              "       [0.9651013 ],\n",
              "       [0.1167279 ],\n",
              "       [0.9750356 ],\n",
              "       [0.5297116 ],\n",
              "       [0.4095997 ],\n",
              "       [0.1577971 ],\n",
              "       [0.19427429],\n",
              "       [0.40739128],\n",
              "       [0.42766267],\n",
              "       [0.973839  ],\n",
              "       [0.37592512],\n",
              "       [0.97187454],\n",
              "       [0.11499172]], dtype=float32)"
            ]
          },
          "metadata": {},
          "execution_count": 87
        }
      ]
    }
  ]
}